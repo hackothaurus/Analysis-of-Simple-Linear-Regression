{
  "nbformat": 4,
  "nbformat_minor": 0,
  "metadata": {
    "colab": {
      "name": "csa.ipynb",
      "provenance": [],
      "collapsed_sections": [
        "UvK5ngFCpANJ",
        "o_46VeYceIH6",
        "jqPnWXD0owhr",
        "cyHz1bbAZX9D",
        "jng5xw8S8s-a"
      ],
      "authorship_tag": "ABX9TyN0K1TAneo6EwUjKlyV5lvD",
      "include_colab_link": true
    },
    "kernelspec": {
      "name": "python3",
      "display_name": "Python 3"
    }
  },
  "cells": [
    {
      "cell_type": "markdown",
      "metadata": {
        "id": "view-in-github",
        "colab_type": "text"
      },
      "source": [
        "<a href=\"https://colab.research.google.com/github/hackothaurus/Analysis-of-Simple-Linear-Regression/blob/main/csa.ipynb\" target=\"_parent\"><img src=\"https://colab.research.google.com/assets/colab-badge.svg\" alt=\"Open In Colab\"/></a>"
      ]
    },
    {
      "cell_type": "markdown",
      "metadata": {
        "id": "UvK5ngFCpANJ"
      },
      "source": [
        "## Authentication and Data"
      ]
    },
    {
      "cell_type": "code",
      "metadata": {
        "id": "qaSYPh5ox9WZ",
        "colab": {
          "base_uri": "https://localhost:8080/"
        },
        "outputId": "c5327c6c-0c11-4735-94b4-841189db1e7d"
      },
      "source": [
        "!apt-get install -y -qq software-properties-common python-software-properties module-init-tools\n",
        "!add-apt-repository -y ppa:alessandro-strada/ppa 2>&1 > /dev/null\n",
        "!apt-get update -qq 2>&1 > /dev/null\n",
        "!apt-get -y install -qq google-drive-ocamlfuse fuse\n",
        "from google.colab import auth\n",
        "auth.authenticate_user()\n",
        "from oauth2client.client import GoogleCredentials\n",
        "creds = GoogleCredentials.get_application_default()\n",
        "import getpass\n",
        "!google-drive-ocamlfuse -headless -id={creds.client_id} -secret={creds.client_secret} < /dev/null 2>&1 | grep URL\n",
        "vcode = getpass.getpass()\n",
        "!echo {vcode} | google-drive-ocamlfuse -headless -id={creds.client_id} -secret={creds.client_secret}"
      ],
      "execution_count": 4,
      "outputs": [
        {
          "output_type": "stream",
          "text": [
            "E: Package 'python-software-properties' has no installation candidate\n",
            "Selecting previously unselected package google-drive-ocamlfuse.\n",
            "(Reading database ... 160706 files and directories currently installed.)\n",
            "Preparing to unpack .../google-drive-ocamlfuse_0.7.26-0ubuntu1~ubuntu18.04.1_amd64.deb ...\n",
            "Unpacking google-drive-ocamlfuse (0.7.26-0ubuntu1~ubuntu18.04.1) ...\n",
            "Setting up google-drive-ocamlfuse (0.7.26-0ubuntu1~ubuntu18.04.1) ...\n",
            "Processing triggers for man-db (2.8.3-2ubuntu0.1) ...\n",
            "Please, open the following URL in a web browser: https://accounts.google.com/o/oauth2/auth?client_id=32555940559.apps.googleusercontent.com&redirect_uri=urn%3Aietf%3Awg%3Aoauth%3A2.0%3Aoob&scope=https%3A%2F%2Fwww.googleapis.com%2Fauth%2Fdrive&response_type=code&access_type=offline&approval_prompt=force\n",
            "··········\n",
            "Please, open the following URL in a web browser: https://accounts.google.com/o/oauth2/auth?client_id=32555940559.apps.googleusercontent.com&redirect_uri=urn%3Aietf%3Awg%3Aoauth%3A2.0%3Aoob&scope=https%3A%2F%2Fwww.googleapis.com%2Fauth%2Fdrive&response_type=code&access_type=offline&approval_prompt=force\n",
            "Please enter the verification code: Access token retrieved correctly.\n"
          ],
          "name": "stdout"
        }
      ]
    },
    {
      "cell_type": "code",
      "metadata": {
        "id": "zlE0ksQfYepL"
      },
      "source": [
        ""
      ],
      "execution_count": 4,
      "outputs": []
    },
    {
      "cell_type": "code",
      "metadata": {
        "id": "GB7bLI59kch5"
      },
      "source": [
        "!mkdir -p drive\n",
        "!google-drive-ocamlfuse drive"
      ],
      "execution_count": 5,
      "outputs": []
    },
    {
      "cell_type": "code",
      "metadata": {
        "id": "6308oJorYjt-"
      },
      "source": [
        "import numpy as np\n",
        "import pandas as pd\n",
        "import seaborn as sns\n",
        "import matplotlib.pyplot as plt"
      ],
      "execution_count": 6,
      "outputs": []
    },
    {
      "cell_type": "code",
      "metadata": {
        "id": "jlP45x87YlVX"
      },
      "source": [
        "from google.colab import files"
      ],
      "execution_count": 7,
      "outputs": []
    },
    {
      "cell_type": "code",
      "metadata": {
        "id": "5EIsOPCGYnhH"
      },
      "source": [
        "data = pd.read_csv('drive/FYP - climate smart agriculture/data/data_manipulated/climdata.csv')"
      ],
      "execution_count": 8,
      "outputs": []
    },
    {
      "cell_type": "code",
      "metadata": {
        "colab": {
          "base_uri": "https://localhost:8080/",
          "height": 224
        },
        "id": "7j2Gem1PZ_6z",
        "outputId": "b72c9fee-3611-424a-9e10-20f549a4b967"
      },
      "source": [
        "data.head()"
      ],
      "execution_count": 9,
      "outputs": [
        {
          "output_type": "execute_result",
          "data": {
            "text/html": [
              "<div>\n",
              "<style scoped>\n",
              "    .dataframe tbody tr th:only-of-type {\n",
              "        vertical-align: middle;\n",
              "    }\n",
              "\n",
              "    .dataframe tbody tr th {\n",
              "        vertical-align: top;\n",
              "    }\n",
              "\n",
              "    .dataframe thead th {\n",
              "        text-align: right;\n",
              "    }\n",
              "</style>\n",
              "<table border=\"1\" class=\"dataframe\">\n",
              "  <thead>\n",
              "    <tr style=\"text-align: right;\">\n",
              "      <th></th>\n",
              "      <th>Year</th>\n",
              "      <th>Rain_Year_avg</th>\n",
              "      <th>Rain_Year_max</th>\n",
              "      <th>Rain_Year_min</th>\n",
              "      <th>Rain_Summer_avg</th>\n",
              "      <th>Rain_Summer_max</th>\n",
              "      <th>Rain_Summer_min</th>\n",
              "      <th>Rain_Winter_avg</th>\n",
              "      <th>Rain_Winter_max</th>\n",
              "      <th>Rain_Winter_min</th>\n",
              "      <th>Rain_rainfall_variance</th>\n",
              "      <th>Year_avg</th>\n",
              "      <th>Year_max</th>\n",
              "      <th>Year_min</th>\n",
              "      <th>Summer_avg</th>\n",
              "      <th>Summer_max</th>\n",
              "      <th>Summer_min</th>\n",
              "      <th>Winter_avg</th>\n",
              "      <th>Winter_max</th>\n",
              "      <th>Winter_min</th>\n",
              "      <th>temp_variance</th>\n",
              "      <th>wheat_area_harvested</th>\n",
              "      <th>wheat_yield</th>\n",
              "      <th>wheat_production</th>\n",
              "    </tr>\n",
              "  </thead>\n",
              "  <tbody>\n",
              "    <tr>\n",
              "      <th>0</th>\n",
              "      <td>1901</td>\n",
              "      <td>20.694421</td>\n",
              "      <td>68.0930</td>\n",
              "      <td>0.21419</td>\n",
              "      <td>32.519300</td>\n",
              "      <td>68.0930</td>\n",
              "      <td>12.88130</td>\n",
              "      <td>18.667863</td>\n",
              "      <td>68.0930</td>\n",
              "      <td>12.88130</td>\n",
              "      <td>494.245931</td>\n",
              "      <td>20.060848</td>\n",
              "      <td>29.3811</td>\n",
              "      <td>7.72768</td>\n",
              "      <td>28.864000</td>\n",
              "      <td>29.3811</td>\n",
              "      <td>27.9718</td>\n",
              "      <td>9.193560</td>\n",
              "      <td>10.9170</td>\n",
              "      <td>7.72768</td>\n",
              "      <td>54.383876</td>\n",
              "      <td>NaN</td>\n",
              "      <td>NaN</td>\n",
              "      <td>NaN</td>\n",
              "    </tr>\n",
              "    <tr>\n",
              "      <th>1</th>\n",
              "      <td>1902</td>\n",
              "      <td>14.635436</td>\n",
              "      <td>34.1203</td>\n",
              "      <td>2.31336</td>\n",
              "      <td>26.420200</td>\n",
              "      <td>34.1203</td>\n",
              "      <td>19.34490</td>\n",
              "      <td>3.407127</td>\n",
              "      <td>34.1203</td>\n",
              "      <td>19.34490</td>\n",
              "      <td>494.601248</td>\n",
              "      <td>20.406836</td>\n",
              "      <td>29.3654</td>\n",
              "      <td>9.90868</td>\n",
              "      <td>28.772300</td>\n",
              "      <td>29.3654</td>\n",
              "      <td>28.2741</td>\n",
              "      <td>10.360310</td>\n",
              "      <td>11.2238</td>\n",
              "      <td>9.90868</td>\n",
              "      <td>54.422973</td>\n",
              "      <td>NaN</td>\n",
              "      <td>NaN</td>\n",
              "      <td>NaN</td>\n",
              "    </tr>\n",
              "    <tr>\n",
              "      <th>2</th>\n",
              "      <td>1903</td>\n",
              "      <td>23.015417</td>\n",
              "      <td>75.6535</td>\n",
              "      <td>1.22380</td>\n",
              "      <td>39.247257</td>\n",
              "      <td>75.6535</td>\n",
              "      <td>7.95537</td>\n",
              "      <td>14.329933</td>\n",
              "      <td>75.6535</td>\n",
              "      <td>7.95537</td>\n",
              "      <td>NaN</td>\n",
              "      <td>19.464821</td>\n",
              "      <td>29.7751</td>\n",
              "      <td>7.69502</td>\n",
              "      <td>28.924500</td>\n",
              "      <td>29.7751</td>\n",
              "      <td>27.9325</td>\n",
              "      <td>8.965517</td>\n",
              "      <td>10.0090</td>\n",
              "      <td>7.69502</td>\n",
              "      <td>NaN</td>\n",
              "      <td>NaN</td>\n",
              "      <td>NaN</td>\n",
              "      <td>NaN</td>\n",
              "    </tr>\n",
              "    <tr>\n",
              "      <th>3</th>\n",
              "      <td>1904</td>\n",
              "      <td>21.827631</td>\n",
              "      <td>68.4706</td>\n",
              "      <td>6.44073</td>\n",
              "      <td>18.567927</td>\n",
              "      <td>26.1663</td>\n",
              "      <td>6.63728</td>\n",
              "      <td>26.229610</td>\n",
              "      <td>26.1663</td>\n",
              "      <td>6.63728</td>\n",
              "      <td>NaN</td>\n",
              "      <td>19.970376</td>\n",
              "      <td>29.2731</td>\n",
              "      <td>6.93021</td>\n",
              "      <td>28.671700</td>\n",
              "      <td>29.2731</td>\n",
              "      <td>27.9196</td>\n",
              "      <td>9.675003</td>\n",
              "      <td>11.3519</td>\n",
              "      <td>6.93021</td>\n",
              "      <td>NaN</td>\n",
              "      <td>NaN</td>\n",
              "      <td>NaN</td>\n",
              "      <td>NaN</td>\n",
              "    </tr>\n",
              "    <tr>\n",
              "      <th>4</th>\n",
              "      <td>1905</td>\n",
              "      <td>21.601424</td>\n",
              "      <td>53.5866</td>\n",
              "      <td>0.23152</td>\n",
              "      <td>11.189933</td>\n",
              "      <td>17.6693</td>\n",
              "      <td>7.47864</td>\n",
              "      <td>39.433567</td>\n",
              "      <td>17.6693</td>\n",
              "      <td>7.47864</td>\n",
              "      <td>NaN</td>\n",
              "      <td>19.448188</td>\n",
              "      <td>29.3462</td>\n",
              "      <td>6.70157</td>\n",
              "      <td>28.986433</td>\n",
              "      <td>29.3462</td>\n",
              "      <td>28.2935</td>\n",
              "      <td>7.892853</td>\n",
              "      <td>10.2265</td>\n",
              "      <td>6.70157</td>\n",
              "      <td>NaN</td>\n",
              "      <td>NaN</td>\n",
              "      <td>NaN</td>\n",
              "      <td>NaN</td>\n",
              "    </tr>\n",
              "  </tbody>\n",
              "</table>\n",
              "</div>"
            ],
            "text/plain": [
              "   Year  Rain_Year_avg  ...  wheat_yield  wheat_production\n",
              "0  1901      20.694421  ...          NaN               NaN\n",
              "1  1902      14.635436  ...          NaN               NaN\n",
              "2  1903      23.015417  ...          NaN               NaN\n",
              "3  1904      21.827631  ...          NaN               NaN\n",
              "4  1905      21.601424  ...          NaN               NaN\n",
              "\n",
              "[5 rows x 24 columns]"
            ]
          },
          "metadata": {
            "tags": []
          },
          "execution_count": 9
        }
      ]
    },
    {
      "cell_type": "markdown",
      "metadata": {
        "id": "kQLZvCcLeTWl"
      },
      "source": [
        "## Looking at the data"
      ]
    },
    {
      "cell_type": "markdown",
      "metadata": {
        "id": "uhStt20ZbTZi"
      },
      "source": [
        "Looking at some basic trends in our compiled data before Normalization/Standardization Techniques"
      ]
    },
    {
      "cell_type": "code",
      "metadata": {
        "colab": {
          "base_uri": "https://localhost:8080/",
          "height": 0
        },
        "id": "_jzgsxWnbaUV",
        "outputId": "90de6ce1-4c01-4619-feff-54b3818c6ca6"
      },
      "source": [
        "data.describe()"
      ],
      "execution_count": 10,
      "outputs": [
        {
          "output_type": "execute_result",
          "data": {
            "text/html": [
              "<div>\n",
              "<style scoped>\n",
              "    .dataframe tbody tr th:only-of-type {\n",
              "        vertical-align: middle;\n",
              "    }\n",
              "\n",
              "    .dataframe tbody tr th {\n",
              "        vertical-align: top;\n",
              "    }\n",
              "\n",
              "    .dataframe thead th {\n",
              "        text-align: right;\n",
              "    }\n",
              "</style>\n",
              "<table border=\"1\" class=\"dataframe\">\n",
              "  <thead>\n",
              "    <tr style=\"text-align: right;\">\n",
              "      <th></th>\n",
              "      <th>Year</th>\n",
              "      <th>Rain_Year_avg</th>\n",
              "      <th>Rain_Year_max</th>\n",
              "      <th>Rain_Year_min</th>\n",
              "      <th>Rain_Summer_avg</th>\n",
              "      <th>Rain_Summer_max</th>\n",
              "      <th>Rain_Summer_min</th>\n",
              "      <th>Rain_Winter_avg</th>\n",
              "      <th>Rain_Winter_max</th>\n",
              "      <th>Rain_Winter_min</th>\n",
              "      <th>Rain_rainfall_variance</th>\n",
              "      <th>Year_avg</th>\n",
              "      <th>Year_max</th>\n",
              "      <th>Year_min</th>\n",
              "      <th>Summer_avg</th>\n",
              "      <th>Summer_max</th>\n",
              "      <th>Summer_min</th>\n",
              "      <th>Winter_avg</th>\n",
              "      <th>Winter_max</th>\n",
              "      <th>Winter_min</th>\n",
              "      <th>temp_variance</th>\n",
              "      <th>wheat_area_harvested</th>\n",
              "      <th>wheat_yield</th>\n",
              "      <th>wheat_production</th>\n",
              "    </tr>\n",
              "  </thead>\n",
              "  <tbody>\n",
              "    <tr>\n",
              "      <th>count</th>\n",
              "      <td>118.000000</td>\n",
              "      <td>116.000000</td>\n",
              "      <td>116.000000</td>\n",
              "      <td>116.000000</td>\n",
              "      <td>116.000000</td>\n",
              "      <td>116.000000</td>\n",
              "      <td>116.000000</td>\n",
              "      <td>116.000000</td>\n",
              "      <td>116.000000</td>\n",
              "      <td>116.000000</td>\n",
              "      <td>2.000000</td>\n",
              "      <td>116.000000</td>\n",
              "      <td>116.000000</td>\n",
              "      <td>116.000000</td>\n",
              "      <td>116.000000</td>\n",
              "      <td>116.000000</td>\n",
              "      <td>116.000000</td>\n",
              "      <td>116.000000</td>\n",
              "      <td>116.000000</td>\n",
              "      <td>116.000000</td>\n",
              "      <td>2.000000</td>\n",
              "      <td>5.800000e+01</td>\n",
              "      <td>58.000000</td>\n",
              "      <td>5.800000e+01</td>\n",
              "    </tr>\n",
              "    <tr>\n",
              "      <th>mean</th>\n",
              "      <td>1959.500000</td>\n",
              "      <td>25.142392</td>\n",
              "      <td>73.647787</td>\n",
              "      <td>2.751249</td>\n",
              "      <td>41.771189</td>\n",
              "      <td>69.157538</td>\n",
              "      <td>16.023421</td>\n",
              "      <td>22.935936</td>\n",
              "      <td>69.157538</td>\n",
              "      <td>16.023421</td>\n",
              "      <td>494.423589</td>\n",
              "      <td>20.007129</td>\n",
              "      <td>29.222209</td>\n",
              "      <td>8.432419</td>\n",
              "      <td>28.521857</td>\n",
              "      <td>29.222209</td>\n",
              "      <td>27.652238</td>\n",
              "      <td>9.827704</td>\n",
              "      <td>11.126234</td>\n",
              "      <td>8.432419</td>\n",
              "      <td>54.403424</td>\n",
              "      <td>7.382148e+06</td>\n",
              "      <td>18492.224138</td>\n",
              "      <td>1.446835e+07</td>\n",
              "    </tr>\n",
              "    <tr>\n",
              "      <th>std</th>\n",
              "      <td>34.207699</td>\n",
              "      <td>5.136948</td>\n",
              "      <td>26.036578</td>\n",
              "      <td>2.177651</td>\n",
              "      <td>16.218397</td>\n",
              "      <td>30.329253</td>\n",
              "      <td>8.637644</td>\n",
              "      <td>8.136082</td>\n",
              "      <td>30.329253</td>\n",
              "      <td>8.637644</td>\n",
              "      <td>0.251247</td>\n",
              "      <td>0.483436</td>\n",
              "      <td>0.401773</td>\n",
              "      <td>0.972765</td>\n",
              "      <td>0.346609</td>\n",
              "      <td>0.401773</td>\n",
              "      <td>0.470846</td>\n",
              "      <td>0.814345</td>\n",
              "      <td>1.071805</td>\n",
              "      <td>0.972765</td>\n",
              "      <td>0.027646</td>\n",
              "      <td>1.312556e+06</td>\n",
              "      <td>6611.049703</td>\n",
              "      <td>7.084846e+06</td>\n",
              "    </tr>\n",
              "    <tr>\n",
              "      <th>min</th>\n",
              "      <td>1901.000000</td>\n",
              "      <td>14.635436</td>\n",
              "      <td>34.120300</td>\n",
              "      <td>0.105840</td>\n",
              "      <td>10.427747</td>\n",
              "      <td>14.218300</td>\n",
              "      <td>1.173190</td>\n",
              "      <td>3.407127</td>\n",
              "      <td>14.218300</td>\n",
              "      <td>1.173190</td>\n",
              "      <td>494.245931</td>\n",
              "      <td>18.907104</td>\n",
              "      <td>28.262600</td>\n",
              "      <td>5.913480</td>\n",
              "      <td>27.460033</td>\n",
              "      <td>28.262600</td>\n",
              "      <td>26.527300</td>\n",
              "      <td>7.892853</td>\n",
              "      <td>8.398860</td>\n",
              "      <td>5.913480</td>\n",
              "      <td>54.383876</td>\n",
              "      <td>4.639000e+06</td>\n",
              "      <td>7597.000000</td>\n",
              "      <td>3.814000e+06</td>\n",
              "    </tr>\n",
              "    <tr>\n",
              "      <th>25%</th>\n",
              "      <td>1930.250000</td>\n",
              "      <td>21.519001</td>\n",
              "      <td>54.050325</td>\n",
              "      <td>0.936405</td>\n",
              "      <td>29.685633</td>\n",
              "      <td>46.027925</td>\n",
              "      <td>9.274857</td>\n",
              "      <td>17.159017</td>\n",
              "      <td>46.027925</td>\n",
              "      <td>9.274857</td>\n",
              "      <td>494.334760</td>\n",
              "      <td>19.620083</td>\n",
              "      <td>28.975375</td>\n",
              "      <td>7.748157</td>\n",
              "      <td>28.302208</td>\n",
              "      <td>28.975375</td>\n",
              "      <td>27.314550</td>\n",
              "      <td>9.265667</td>\n",
              "      <td>10.418700</td>\n",
              "      <td>7.748157</td>\n",
              "      <td>54.393650</td>\n",
              "      <td>6.177250e+06</td>\n",
              "      <td>13167.500000</td>\n",
              "      <td>7.846880e+06</td>\n",
              "    </tr>\n",
              "    <tr>\n",
              "      <th>50%</th>\n",
              "      <td>1959.500000</td>\n",
              "      <td>24.528221</td>\n",
              "      <td>69.300800</td>\n",
              "      <td>2.244345</td>\n",
              "      <td>40.244783</td>\n",
              "      <td>65.397450</td>\n",
              "      <td>13.870400</td>\n",
              "      <td>22.180167</td>\n",
              "      <td>65.397450</td>\n",
              "      <td>13.870400</td>\n",
              "      <td>494.423589</td>\n",
              "      <td>19.907346</td>\n",
              "      <td>29.220200</td>\n",
              "      <td>8.404165</td>\n",
              "      <td>28.536217</td>\n",
              "      <td>29.220200</td>\n",
              "      <td>27.686450</td>\n",
              "      <td>9.830677</td>\n",
              "      <td>11.029800</td>\n",
              "      <td>8.404165</td>\n",
              "      <td>54.403424</td>\n",
              "      <td>7.787050e+06</td>\n",
              "      <td>18532.500000</td>\n",
              "      <td>1.436735e+07</td>\n",
              "    </tr>\n",
              "    <tr>\n",
              "      <th>75%</th>\n",
              "      <td>1988.750000</td>\n",
              "      <td>28.991011</td>\n",
              "      <td>91.040800</td>\n",
              "      <td>3.994473</td>\n",
              "      <td>53.393248</td>\n",
              "      <td>91.040800</td>\n",
              "      <td>21.284550</td>\n",
              "      <td>28.017068</td>\n",
              "      <td>91.040800</td>\n",
              "      <td>21.284550</td>\n",
              "      <td>494.512418</td>\n",
              "      <td>20.394122</td>\n",
              "      <td>29.452575</td>\n",
              "      <td>9.159270</td>\n",
              "      <td>28.742108</td>\n",
              "      <td>29.452575</td>\n",
              "      <td>27.964650</td>\n",
              "      <td>10.428804</td>\n",
              "      <td>11.787750</td>\n",
              "      <td>9.159270</td>\n",
              "      <td>54.413199</td>\n",
              "      <td>8.371875e+06</td>\n",
              "      <td>24355.000000</td>\n",
              "      <td>2.059405e+07</td>\n",
              "    </tr>\n",
              "    <tr>\n",
              "      <th>max</th>\n",
              "      <td>2018.000000</td>\n",
              "      <td>41.197529</td>\n",
              "      <td>154.055000</td>\n",
              "      <td>9.716070</td>\n",
              "      <td>83.295033</td>\n",
              "      <td>154.055000</td>\n",
              "      <td>37.819100</td>\n",
              "      <td>47.613833</td>\n",
              "      <td>154.055000</td>\n",
              "      <td>37.819100</td>\n",
              "      <td>494.601248</td>\n",
              "      <td>21.414617</td>\n",
              "      <td>30.305800</td>\n",
              "      <td>10.752600</td>\n",
              "      <td>29.541833</td>\n",
              "      <td>30.305800</td>\n",
              "      <td>28.742500</td>\n",
              "      <td>12.068500</td>\n",
              "      <td>14.643900</td>\n",
              "      <td>10.752600</td>\n",
              "      <td>54.422973</td>\n",
              "      <td>9.223723e+06</td>\n",
              "      <td>29729.000000</td>\n",
              "      <td>2.667370e+07</td>\n",
              "    </tr>\n",
              "  </tbody>\n",
              "</table>\n",
              "</div>"
            ],
            "text/plain": [
              "              Year  Rain_Year_avg  ...   wheat_yield  wheat_production\n",
              "count   118.000000     116.000000  ...     58.000000      5.800000e+01\n",
              "mean   1959.500000      25.142392  ...  18492.224138      1.446835e+07\n",
              "std      34.207699       5.136948  ...   6611.049703      7.084846e+06\n",
              "min    1901.000000      14.635436  ...   7597.000000      3.814000e+06\n",
              "25%    1930.250000      21.519001  ...  13167.500000      7.846880e+06\n",
              "50%    1959.500000      24.528221  ...  18532.500000      1.436735e+07\n",
              "75%    1988.750000      28.991011  ...  24355.000000      2.059405e+07\n",
              "max    2018.000000      41.197529  ...  29729.000000      2.667370e+07\n",
              "\n",
              "[8 rows x 24 columns]"
            ]
          },
          "metadata": {
            "tags": []
          },
          "execution_count": 10
        }
      ]
    },
    {
      "cell_type": "markdown",
      "metadata": {
        "id": "9-2_DwVddSs6"
      },
      "source": [
        "**Looking at Average Annual Rainfall over time**"
      ]
    },
    {
      "cell_type": "code",
      "metadata": {
        "colab": {
          "base_uri": "https://localhost:8080/",
          "height": 0
        },
        "id": "DyBZRJCiccMR",
        "outputId": "653ce4a6-ec0e-43f7-ef46-1fcf1ef9eedf"
      },
      "source": [
        "sns.lineplot(\n",
        "    data=data, x=\"Year\", y=\"Rain_Year_avg\", \n",
        ")"
      ],
      "execution_count": 11,
      "outputs": [
        {
          "output_type": "execute_result",
          "data": {
            "text/plain": [
              "<matplotlib.axes._subplots.AxesSubplot at 0x7f227686f810>"
            ]
          },
          "metadata": {
            "tags": []
          },
          "execution_count": 11
        },
        {
          "output_type": "display_data",
          "data": {
            "image/png": "[encoded data removed]",
            "text/plain": [
              "<Figure size 432x288 with 1 Axes>"
            ]
          },
          "metadata": {
            "tags": [],
            "needs_background": "light"
          }
        }
      ]
    },
    {
      "cell_type": "code",
      "metadata": {
        "colab": {
          "base_uri": "https://localhost:8080/",
          "height": 0
        },
        "id": "EChZ8QXJjx0G",
        "outputId": "6f7a84da-5a14-4678-dac0-f3958d3c51ed"
      },
      "source": [
        "sns.lineplot(data=data[['Rain_Year_max', 'Rain_Year_min']])"
      ],
      "execution_count": 12,
      "outputs": [
        {
          "output_type": "execute_result",
          "data": {
            "text/plain": [
              "<matplotlib.axes._subplots.AxesSubplot at 0x7f2271d458d0>"
            ]
          },
          "metadata": {
            "tags": []
          },
          "execution_count": 12
        },
        {
          "output_type": "display_data",
          "data": {
            "image/png": "[encoded data removed]",
            "text/plain": [
              "<Figure size 432x288 with 1 Axes>"
            ]
          },
          "metadata": {
            "tags": [],
            "needs_background": "light"
          }
        }
      ]
    },
    {
      "cell_type": "markdown",
      "metadata": {
        "id": "BsRIuPu5dWOv"
      },
      "source": [
        "**Looking at Average Annual Temperature over time**"
      ]
    },
    {
      "cell_type": "code",
      "metadata": {
        "colab": {
          "base_uri": "https://localhost:8080/",
          "height": 0
        },
        "id": "LlCcxhMfdLQ5",
        "outputId": "b1a6fea0-54f0-4321-c48e-5c293053db02"
      },
      "source": [
        "sns.lineplot(data=data['Year_avg'])"
      ],
      "execution_count": 13,
      "outputs": [
        {
          "output_type": "execute_result",
          "data": {
            "text/plain": [
              "<matplotlib.axes._subplots.AxesSubplot at 0x7f2271848bd0>"
            ]
          },
          "metadata": {
            "tags": []
          },
          "execution_count": 13
        },
        {
          "output_type": "display_data",
          "data": {
            "image/png": "[encoded data removed]",
            "text/plain": [
              "<Figure size 432x288 with 1 Axes>"
            ]
          },
          "metadata": {
            "tags": [],
            "needs_background": "light"
          }
        }
      ]
    },
    {
      "cell_type": "code",
      "metadata": {
        "colab": {
          "base_uri": "https://localhost:8080/",
          "height": 0
        },
        "id": "0u2mqq2Dkytd",
        "outputId": "7cf8b881-78b1-4e19-d3bd-0ad470f96303"
      },
      "source": [
        "sns.lineplot(data=data[['Year_max', 'Year_min']])"
      ],
      "execution_count": 14,
      "outputs": [
        {
          "output_type": "execute_result",
          "data": {
            "text/plain": [
              "<matplotlib.axes._subplots.AxesSubplot at 0x7f22717bbb90>"
            ]
          },
          "metadata": {
            "tags": []
          },
          "execution_count": 14
        },
        {
          "output_type": "display_data",
          "data": {
            "image/png": "[encoded data removed]",
            "text/plain": [
              "<Figure size 432x288 with 1 Axes>"
            ]
          },
          "metadata": {
            "tags": [],
            "needs_background": "light"
          }
        }
      ]
    },
    {
      "cell_type": "code",
      "metadata": {
        "id": "PdGKzLL5dPJW"
      },
      "source": [
        "#Drawing a simple graph of wheat output versus temperature"
      ],
      "execution_count": 15,
      "outputs": []
    },
    {
      "cell_type": "code",
      "metadata": {
        "colab": {
          "base_uri": "https://localhost:8080/",
          "height": 0
        },
        "id": "wY3oybLNdbP_",
        "outputId": "e524bc9e-1c77-44fb-d218-16c9983b0213"
      },
      "source": [
        "sns.lineplot(\n",
        "    data=data, x=\"Year_avg\", y=\"wheat_yield\", \n",
        ") #As we can see here, this is no direct coorelation between the two.\n",
        "#We will have to further analyze the wheat yeild paramters, as well as the temperature paramteres."
      ],
      "execution_count": 16,
      "outputs": [
        {
          "output_type": "execute_result",
          "data": {
            "text/plain": [
              "<matplotlib.axes._subplots.AxesSubplot at 0x7f2271741b90>"
            ]
          },
          "metadata": {
            "tags": []
          },
          "execution_count": 16
        },
        {
          "output_type": "display_data",
          "data": {
            "image/png": "[encoded data removed]",
            "text/plain": [
              "<Figure size 432x288 with 1 Axes>"
            ]
          },
          "metadata": {
            "tags": [],
            "needs_background": "light"
          }
        }
      ]
    },
    {
      "cell_type": "code",
      "metadata": {
        "id": "1ZHj1LrDdxcw"
      },
      "source": [
        ""
      ],
      "execution_count": 16,
      "outputs": []
    },
    {
      "cell_type": "markdown",
      "metadata": {
        "id": "o_46VeYceIH6"
      },
      "source": [
        "## Normalization and Standardization"
      ]
    },
    {
      "cell_type": "code",
      "metadata": {
        "id": "vMMBN18im8tZ"
      },
      "source": [
        "data = data[data[\"Year_avg\"].notna()]"
      ],
      "execution_count": 35,
      "outputs": []
    },
    {
      "cell_type": "code",
      "metadata": {
        "id": "9kXwkQvYj9-q"
      },
      "source": [
        "X = data[data[\"wheat_yield\"].notna()]\n"
      ],
      "execution_count": 36,
      "outputs": []
    },
    {
      "cell_type": "code",
      "metadata": {
        "colab": {
          "base_uri": "https://localhost:8080/"
        },
        "id": "L4PX6o4Hiruv",
        "outputId": "e5e80921-8a4d-477e-8aa0-38915cbf77a5"
      },
      "source": [
        "Y = data[\"wheat_yield\"]\n",
        "Y = Y[Y.notna()]\n",
        "Y.head()"
      ],
      "execution_count": 37,
      "outputs": [
        {
          "output_type": "execute_result",
          "data": {
            "text/plain": [
              "60    8222.0\n",
              "61    8178.0\n",
              "62    8303.0\n",
              "63    8292.0\n",
              "64    8631.0\n",
              "Name: wheat_yield, dtype: float64"
            ]
          },
          "metadata": {
            "tags": []
          },
          "execution_count": 37
        }
      ]
    },
    {
      "cell_type": "code",
      "metadata": {
        "colab": {
          "base_uri": "https://localhost:8080/",
          "height": 0
        },
        "id": "GNWa4elBmFj5",
        "outputId": "9b5c12c0-6484-4237-ea9c-a04152370916"
      },
      "source": [
        "Y.reset_index()"
      ],
      "execution_count": 38,
      "outputs": [
        {
          "output_type": "execute_result",
          "data": {
            "text/html": [
              "<div>\n",
              "<style scoped>\n",
              "    .dataframe tbody tr th:only-of-type {\n",
              "        vertical-align: middle;\n",
              "    }\n",
              "\n",
              "    .dataframe tbody tr th {\n",
              "        vertical-align: top;\n",
              "    }\n",
              "\n",
              "    .dataframe thead th {\n",
              "        text-align: right;\n",
              "    }\n",
              "</style>\n",
              "<table border=\"1\" class=\"dataframe\">\n",
              "  <thead>\n",
              "    <tr style=\"text-align: right;\">\n",
              "      <th></th>\n",
              "      <th>index</th>\n",
              "      <th>wheat_yield</th>\n",
              "    </tr>\n",
              "  </thead>\n",
              "  <tbody>\n",
              "    <tr>\n",
              "      <th>0</th>\n",
              "      <td>60</td>\n",
              "      <td>8222.0</td>\n",
              "    </tr>\n",
              "    <tr>\n",
              "      <th>1</th>\n",
              "      <td>61</td>\n",
              "      <td>8178.0</td>\n",
              "    </tr>\n",
              "    <tr>\n",
              "      <th>2</th>\n",
              "      <td>62</td>\n",
              "      <td>8303.0</td>\n",
              "    </tr>\n",
              "    <tr>\n",
              "      <th>3</th>\n",
              "      <td>63</td>\n",
              "      <td>8292.0</td>\n",
              "    </tr>\n",
              "    <tr>\n",
              "      <th>4</th>\n",
              "      <td>64</td>\n",
              "      <td>8631.0</td>\n",
              "    </tr>\n",
              "    <tr>\n",
              "      <th>5</th>\n",
              "      <td>65</td>\n",
              "      <td>7597.0</td>\n",
              "    </tr>\n",
              "    <tr>\n",
              "      <th>6</th>\n",
              "      <td>66</td>\n",
              "      <td>8110.0</td>\n",
              "    </tr>\n",
              "    <tr>\n",
              "      <th>7</th>\n",
              "      <td>67</td>\n",
              "      <td>10727.0</td>\n",
              "    </tr>\n",
              "    <tr>\n",
              "      <th>8</th>\n",
              "      <td>68</td>\n",
              "      <td>10744.0</td>\n",
              "    </tr>\n",
              "    <tr>\n",
              "      <th>9</th>\n",
              "      <td>69</td>\n",
              "      <td>11710.0</td>\n",
              "    </tr>\n",
              "    <tr>\n",
              "      <th>10</th>\n",
              "      <td>70</td>\n",
              "      <td>10833.0</td>\n",
              "    </tr>\n",
              "    <tr>\n",
              "      <th>11</th>\n",
              "      <td>71</td>\n",
              "      <td>11887.0</td>\n",
              "    </tr>\n",
              "    <tr>\n",
              "      <th>12</th>\n",
              "      <td>72</td>\n",
              "      <td>12465.0</td>\n",
              "    </tr>\n",
              "    <tr>\n",
              "      <th>13</th>\n",
              "      <td>73</td>\n",
              "      <td>12480.0</td>\n",
              "    </tr>\n",
              "    <tr>\n",
              "      <th>14</th>\n",
              "      <td>74</td>\n",
              "      <td>13202.0</td>\n",
              "    </tr>\n",
              "    <tr>\n",
              "      <th>15</th>\n",
              "      <td>75</td>\n",
              "      <td>14222.0</td>\n",
              "    </tr>\n",
              "    <tr>\n",
              "      <th>16</th>\n",
              "      <td>76</td>\n",
              "      <td>14310.0</td>\n",
              "    </tr>\n",
              "    <tr>\n",
              "      <th>17</th>\n",
              "      <td>77</td>\n",
              "      <td>13156.0</td>\n",
              "    </tr>\n",
              "    <tr>\n",
              "      <th>18</th>\n",
              "      <td>78</td>\n",
              "      <td>14879.0</td>\n",
              "    </tr>\n",
              "    <tr>\n",
              "      <th>19</th>\n",
              "      <td>79</td>\n",
              "      <td>15680.0</td>\n",
              "    </tr>\n",
              "    <tr>\n",
              "      <th>20</th>\n",
              "      <td>80</td>\n",
              "      <td>16431.0</td>\n",
              "    </tr>\n",
              "    <tr>\n",
              "      <th>21</th>\n",
              "      <td>81</td>\n",
              "      <td>15651.0</td>\n",
              "    </tr>\n",
              "    <tr>\n",
              "      <th>22</th>\n",
              "      <td>82</td>\n",
              "      <td>16781.0</td>\n",
              "    </tr>\n",
              "    <tr>\n",
              "      <th>23</th>\n",
              "      <td>83</td>\n",
              "      <td>14819.0</td>\n",
              "    </tr>\n",
              "    <tr>\n",
              "      <th>24</th>\n",
              "      <td>84</td>\n",
              "      <td>16123.0</td>\n",
              "    </tr>\n",
              "    <tr>\n",
              "      <th>25</th>\n",
              "      <td>85</td>\n",
              "      <td>18806.0</td>\n",
              "    </tr>\n",
              "    <tr>\n",
              "      <th>26</th>\n",
              "      <td>86</td>\n",
              "      <td>15593.0</td>\n",
              "    </tr>\n",
              "    <tr>\n",
              "      <th>27</th>\n",
              "      <td>87</td>\n",
              "      <td>17343.0</td>\n",
              "    </tr>\n",
              "    <tr>\n",
              "      <th>28</th>\n",
              "      <td>88</td>\n",
              "      <td>18655.0</td>\n",
              "    </tr>\n",
              "    <tr>\n",
              "      <th>29</th>\n",
              "      <td>89</td>\n",
              "      <td>18249.0</td>\n",
              "    </tr>\n",
              "    <tr>\n",
              "      <th>30</th>\n",
              "      <td>90</td>\n",
              "      <td>18410.0</td>\n",
              "    </tr>\n",
              "    <tr>\n",
              "      <th>31</th>\n",
              "      <td>91</td>\n",
              "      <td>19910.0</td>\n",
              "    </tr>\n",
              "    <tr>\n",
              "      <th>32</th>\n",
              "      <td>92</td>\n",
              "      <td>19466.0</td>\n",
              "    </tr>\n",
              "    <tr>\n",
              "      <th>33</th>\n",
              "      <td>93</td>\n",
              "      <td>18935.0</td>\n",
              "    </tr>\n",
              "    <tr>\n",
              "      <th>34</th>\n",
              "      <td>94</td>\n",
              "      <td>20811.0</td>\n",
              "    </tr>\n",
              "    <tr>\n",
              "      <th>35</th>\n",
              "      <td>95</td>\n",
              "      <td>20184.0</td>\n",
              "    </tr>\n",
              "    <tr>\n",
              "      <th>36</th>\n",
              "      <td>96</td>\n",
              "      <td>20533.0</td>\n",
              "    </tr>\n",
              "    <tr>\n",
              "      <th>37</th>\n",
              "      <td>97</td>\n",
              "      <td>22376.0</td>\n",
              "    </tr>\n",
              "    <tr>\n",
              "      <th>38</th>\n",
              "      <td>98</td>\n",
              "      <td>21698.0</td>\n",
              "    </tr>\n",
              "    <tr>\n",
              "      <th>39</th>\n",
              "      <td>99</td>\n",
              "      <td>24907.0</td>\n",
              "    </tr>\n",
              "    <tr>\n",
              "      <th>40</th>\n",
              "      <td>100</td>\n",
              "      <td>23254.0</td>\n",
              "    </tr>\n",
              "    <tr>\n",
              "      <th>41</th>\n",
              "      <td>101</td>\n",
              "      <td>22621.0</td>\n",
              "    </tr>\n",
              "    <tr>\n",
              "      <th>42</th>\n",
              "      <td>102</td>\n",
              "      <td>23878.0</td>\n",
              "    </tr>\n",
              "    <tr>\n",
              "      <th>43</th>\n",
              "      <td>103</td>\n",
              "      <td>23733.0</td>\n",
              "    </tr>\n",
              "    <tr>\n",
              "      <th>44</th>\n",
              "      <td>104</td>\n",
              "      <td>25858.0</td>\n",
              "    </tr>\n",
              "    <tr>\n",
              "      <th>45</th>\n",
              "      <td>105</td>\n",
              "      <td>25186.0</td>\n",
              "    </tr>\n",
              "    <tr>\n",
              "      <th>46</th>\n",
              "      <td>106</td>\n",
              "      <td>27156.0</td>\n",
              "    </tr>\n",
              "    <tr>\n",
              "      <th>47</th>\n",
              "      <td>107</td>\n",
              "      <td>24514.0</td>\n",
              "    </tr>\n",
              "    <tr>\n",
              "      <th>48</th>\n",
              "      <td>108</td>\n",
              "      <td>26568.0</td>\n",
              "    </tr>\n",
              "    <tr>\n",
              "      <th>49</th>\n",
              "      <td>109</td>\n",
              "      <td>25528.0</td>\n",
              "    </tr>\n",
              "    <tr>\n",
              "      <th>50</th>\n",
              "      <td>110</td>\n",
              "      <td>28328.0</td>\n",
              "    </tr>\n",
              "    <tr>\n",
              "      <th>51</th>\n",
              "      <td>111</td>\n",
              "      <td>27138.0</td>\n",
              "    </tr>\n",
              "    <tr>\n",
              "      <th>52</th>\n",
              "      <td>112</td>\n",
              "      <td>27957.0</td>\n",
              "    </tr>\n",
              "    <tr>\n",
              "      <th>53</th>\n",
              "      <td>113</td>\n",
              "      <td>28241.0</td>\n",
              "    </tr>\n",
              "    <tr>\n",
              "      <th>54</th>\n",
              "      <td>114</td>\n",
              "      <td>27256.0</td>\n",
              "    </tr>\n",
              "    <tr>\n",
              "      <th>55</th>\n",
              "      <td>115</td>\n",
              "      <td>27790.0</td>\n",
              "    </tr>\n",
              "  </tbody>\n",
              "</table>\n",
              "</div>"
            ],
            "text/plain": [
              "    index  wheat_yield\n",
              "0      60       8222.0\n",
              "1      61       8178.0\n",
              "2      62       8303.0\n",
              "3      63       8292.0\n",
              "4      64       8631.0\n",
              "5      65       7597.0\n",
              "6      66       8110.0\n",
              "7      67      10727.0\n",
              "8      68      10744.0\n",
              "9      69      11710.0\n",
              "10     70      10833.0\n",
              "11     71      11887.0\n",
              "12     72      12465.0\n",
              "13     73      12480.0\n",
              "14     74      13202.0\n",
              "15     75      14222.0\n",
              "16     76      14310.0\n",
              "17     77      13156.0\n",
              "18     78      14879.0\n",
              "19     79      15680.0\n",
              "20     80      16431.0\n",
              "21     81      15651.0\n",
              "22     82      16781.0\n",
              "23     83      14819.0\n",
              "24     84      16123.0\n",
              "25     85      18806.0\n",
              "26     86      15593.0\n",
              "27     87      17343.0\n",
              "28     88      18655.0\n",
              "29     89      18249.0\n",
              "30     90      18410.0\n",
              "31     91      19910.0\n",
              "32     92      19466.0\n",
              "33     93      18935.0\n",
              "34     94      20811.0\n",
              "35     95      20184.0\n",
              "36     96      20533.0\n",
              "37     97      22376.0\n",
              "38     98      21698.0\n",
              "39     99      24907.0\n",
              "40    100      23254.0\n",
              "41    101      22621.0\n",
              "42    102      23878.0\n",
              "43    103      23733.0\n",
              "44    104      25858.0\n",
              "45    105      25186.0\n",
              "46    106      27156.0\n",
              "47    107      24514.0\n",
              "48    108      26568.0\n",
              "49    109      25528.0\n",
              "50    110      28328.0\n",
              "51    111      27138.0\n",
              "52    112      27957.0\n",
              "53    113      28241.0\n",
              "54    114      27256.0\n",
              "55    115      27790.0"
            ]
          },
          "metadata": {
            "tags": []
          },
          "execution_count": 38
        }
      ]
    },
    {
      "cell_type": "markdown",
      "metadata": {
        "id": "F33DBT8Mk-ya"
      },
      "source": [
        ""
      ]
    },
    {
      "cell_type": "code",
      "metadata": {
        "colab": {
          "base_uri": "https://localhost:8080/",
          "height": 0
        },
        "id": "ylqCCdvBg3Aj",
        "outputId": "85ca055c-cf0f-42a1-f622-7a94249739d5"
      },
      "source": [
        "X.drop(columns=['wheat_area_harvested','wheat_production', 'wheat_yield', 'temp_variance', 'Rain_rainfall_variance'], inplace=True)\n",
        "X.reset_index()"
      ],
      "execution_count": 39,
      "outputs": [
        {
          "output_type": "stream",
          "text": [
            "/usr/local/lib/python3.7/dist-packages/pandas/core/frame.py:4174: SettingWithCopyWarning: \n",
            "A value is trying to be set on a copy of a slice from a DataFrame\n",
            "\n",
            "See the caveats in the documentation: https://pandas.pydata.org/pandas-docs/stable/user_guide/indexing.html#returning-a-view-versus-a-copy\n",
            "  errors=errors,\n"
          ],
          "name": "stderr"
        },
        {
          "output_type": "execute_result",
          "data": {
            "text/html": [
              "<div>\n",
              "<style scoped>\n",
              "    .dataframe tbody tr th:only-of-type {\n",
              "        vertical-align: middle;\n",
              "    }\n",
              "\n",
              "    .dataframe tbody tr th {\n",
              "        vertical-align: top;\n",
              "    }\n",
              "\n",
              "    .dataframe thead th {\n",
              "        text-align: right;\n",
              "    }\n",
              "</style>\n",
              "<table border=\"1\" class=\"dataframe\">\n",
              "  <thead>\n",
              "    <tr style=\"text-align: right;\">\n",
              "      <th></th>\n",
              "      <th>index</th>\n",
              "      <th>Year</th>\n",
              "      <th>Rain_Year_avg</th>\n",
              "      <th>Rain_Year_max</th>\n",
              "      <th>Rain_Year_min</th>\n",
              "      <th>Rain_Summer_avg</th>\n",
              "      <th>Rain_Summer_max</th>\n",
              "      <th>Rain_Summer_min</th>\n",
              "      <th>Rain_Winter_avg</th>\n",
              "      <th>Rain_Winter_max</th>\n",
              "      <th>Rain_Winter_min</th>\n",
              "      <th>Year_avg</th>\n",
              "      <th>Year_max</th>\n",
              "      <th>Year_min</th>\n",
              "      <th>Summer_avg</th>\n",
              "      <th>Summer_max</th>\n",
              "      <th>Summer_min</th>\n",
              "      <th>Winter_avg</th>\n",
              "      <th>Winter_max</th>\n",
              "      <th>Winter_min</th>\n",
              "    </tr>\n",
              "  </thead>\n",
              "  <tbody>\n",
              "    <tr>\n",
              "      <th>0</th>\n",
              "      <td>60</td>\n",
              "      <td>1961</td>\n",
              "      <td>30.017449</td>\n",
              "      <td>89.9002</td>\n",
              "      <td>9.28469</td>\n",
              "      <td>53.228767</td>\n",
              "      <td>89.9002</td>\n",
              "      <td>23.48900</td>\n",
              "      <td>25.112733</td>\n",
              "      <td>89.9002</td>\n",
              "      <td>23.48900</td>\n",
              "      <td>19.753663</td>\n",
              "      <td>28.8716</td>\n",
              "      <td>9.09557</td>\n",
              "      <td>28.488167</td>\n",
              "      <td>28.8716</td>\n",
              "      <td>27.9087</td>\n",
              "      <td>9.338220</td>\n",
              "      <td>9.74896</td>\n",
              "      <td>9.09557</td>\n",
              "    </tr>\n",
              "    <tr>\n",
              "      <th>1</th>\n",
              "      <td>61</td>\n",
              "      <td>1962</td>\n",
              "      <td>22.300155</td>\n",
              "      <td>46.8747</td>\n",
              "      <td>4.00006</td>\n",
              "      <td>33.586067</td>\n",
              "      <td>46.8747</td>\n",
              "      <td>10.98280</td>\n",
              "      <td>15.948100</td>\n",
              "      <td>46.8747</td>\n",
              "      <td>10.98280</td>\n",
              "      <td>19.779221</td>\n",
              "      <td>28.9729</td>\n",
              "      <td>8.12009</td>\n",
              "      <td>28.482167</td>\n",
              "      <td>28.9729</td>\n",
              "      <td>27.7405</td>\n",
              "      <td>9.881450</td>\n",
              "      <td>12.19980</td>\n",
              "      <td>8.12009</td>\n",
              "    </tr>\n",
              "    <tr>\n",
              "      <th>2</th>\n",
              "      <td>62</td>\n",
              "      <td>1963</td>\n",
              "      <td>18.846562</td>\n",
              "      <td>41.6322</td>\n",
              "      <td>0.99773</td>\n",
              "      <td>17.918037</td>\n",
              "      <td>27.7805</td>\n",
              "      <td>5.55861</td>\n",
              "      <td>9.879377</td>\n",
              "      <td>27.7805</td>\n",
              "      <td>5.55861</td>\n",
              "      <td>20.461927</td>\n",
              "      <td>29.5692</td>\n",
              "      <td>9.27652</td>\n",
              "      <td>29.030133</td>\n",
              "      <td>29.5692</td>\n",
              "      <td>28.0886</td>\n",
              "      <td>11.028640</td>\n",
              "      <td>13.28630</td>\n",
              "      <td>9.27652</td>\n",
              "    </tr>\n",
              "    <tr>\n",
              "      <th>3</th>\n",
              "      <td>63</td>\n",
              "      <td>1964</td>\n",
              "      <td>25.169663</td>\n",
              "      <td>80.9339</td>\n",
              "      <td>1.39828</td>\n",
              "      <td>51.920433</td>\n",
              "      <td>80.9339</td>\n",
              "      <td>18.55880</td>\n",
              "      <td>24.127467</td>\n",
              "      <td>80.9339</td>\n",
              "      <td>18.55880</td>\n",
              "      <td>19.455764</td>\n",
              "      <td>28.3536</td>\n",
              "      <td>5.91348</td>\n",
              "      <td>28.249833</td>\n",
              "      <td>28.3536</td>\n",
              "      <td>28.1009</td>\n",
              "      <td>8.340190</td>\n",
              "      <td>10.63360</td>\n",
              "      <td>5.91348</td>\n",
              "    </tr>\n",
              "    <tr>\n",
              "      <th>4</th>\n",
              "      <td>64</td>\n",
              "      <td>1965</td>\n",
              "      <td>24.451258</td>\n",
              "      <td>64.3407</td>\n",
              "      <td>5.02491</td>\n",
              "      <td>33.465370</td>\n",
              "      <td>64.3407</td>\n",
              "      <td>5.02491</td>\n",
              "      <td>20.542033</td>\n",
              "      <td>64.3407</td>\n",
              "      <td>5.02491</td>\n",
              "      <td>19.736968</td>\n",
              "      <td>28.5565</td>\n",
              "      <td>9.28412</td>\n",
              "      <td>27.908933</td>\n",
              "      <td>28.5565</td>\n",
              "      <td>26.7583</td>\n",
              "      <td>10.209473</td>\n",
              "      <td>10.92270</td>\n",
              "      <td>9.28412</td>\n",
              "    </tr>\n",
              "    <tr>\n",
              "      <th>5</th>\n",
              "      <td>65</td>\n",
              "      <td>1966</td>\n",
              "      <td>22.548259</td>\n",
              "      <td>45.8264</td>\n",
              "      <td>0.55480</td>\n",
              "      <td>31.383100</td>\n",
              "      <td>45.8264</td>\n",
              "      <td>14.12810</td>\n",
              "      <td>16.550203</td>\n",
              "      <td>45.8264</td>\n",
              "      <td>14.12810</td>\n",
              "      <td>19.835458</td>\n",
              "      <td>29.0107</td>\n",
              "      <td>9.15590</td>\n",
              "      <td>28.323700</td>\n",
              "      <td>29.0107</td>\n",
              "      <td>27.5495</td>\n",
              "      <td>10.898300</td>\n",
              "      <td>13.29750</td>\n",
              "      <td>9.15590</td>\n",
              "    </tr>\n",
              "    <tr>\n",
              "      <th>6</th>\n",
              "      <td>66</td>\n",
              "      <td>1967</td>\n",
              "      <td>31.156436</td>\n",
              "      <td>71.5948</td>\n",
              "      <td>4.27492</td>\n",
              "      <td>47.388830</td>\n",
              "      <td>71.5948</td>\n",
              "      <td>8.45779</td>\n",
              "      <td>28.162273</td>\n",
              "      <td>71.5948</td>\n",
              "      <td>8.45779</td>\n",
              "      <td>19.678002</td>\n",
              "      <td>29.1326</td>\n",
              "      <td>7.16669</td>\n",
              "      <td>28.374000</td>\n",
              "      <td>29.1326</td>\n",
              "      <td>27.2929</td>\n",
              "      <td>9.674040</td>\n",
              "      <td>12.35150</td>\n",
              "      <td>7.16669</td>\n",
              "    </tr>\n",
              "    <tr>\n",
              "      <th>7</th>\n",
              "      <td>67</td>\n",
              "      <td>1968</td>\n",
              "      <td>18.005987</td>\n",
              "      <td>35.3530</td>\n",
              "      <td>1.11097</td>\n",
              "      <td>23.872267</td>\n",
              "      <td>35.3530</td>\n",
              "      <td>7.33590</td>\n",
              "      <td>23.160333</td>\n",
              "      <td>35.3530</td>\n",
              "      <td>7.33590</td>\n",
              "      <td>19.538937</td>\n",
              "      <td>29.0917</td>\n",
              "      <td>7.65180</td>\n",
              "      <td>28.499500</td>\n",
              "      <td>29.0917</td>\n",
              "      <td>27.5790</td>\n",
              "      <td>8.851150</td>\n",
              "      <td>10.23360</td>\n",
              "      <td>7.65180</td>\n",
              "    </tr>\n",
              "    <tr>\n",
              "      <th>8</th>\n",
              "      <td>68</td>\n",
              "      <td>1969</td>\n",
              "      <td>18.716057</td>\n",
              "      <td>54.8043</td>\n",
              "      <td>1.45074</td>\n",
              "      <td>27.990670</td>\n",
              "      <td>54.8043</td>\n",
              "      <td>9.63631</td>\n",
              "      <td>13.493947</td>\n",
              "      <td>54.8043</td>\n",
              "      <td>9.63631</td>\n",
              "      <td>20.301930</td>\n",
              "      <td>29.2691</td>\n",
              "      <td>8.29291</td>\n",
              "      <td>28.710467</td>\n",
              "      <td>29.2691</td>\n",
              "      <td>27.7145</td>\n",
              "      <td>9.934787</td>\n",
              "      <td>11.57260</td>\n",
              "      <td>8.29291</td>\n",
              "    </tr>\n",
              "    <tr>\n",
              "      <th>9</th>\n",
              "      <td>69</td>\n",
              "      <td>1970</td>\n",
              "      <td>25.773367</td>\n",
              "      <td>77.4600</td>\n",
              "      <td>0.47082</td>\n",
              "      <td>46.697133</td>\n",
              "      <td>77.4600</td>\n",
              "      <td>16.55790</td>\n",
              "      <td>20.588137</td>\n",
              "      <td>77.4600</td>\n",
              "      <td>16.55790</td>\n",
              "      <td>20.421614</td>\n",
              "      <td>29.2800</td>\n",
              "      <td>9.03377</td>\n",
              "      <td>28.890300</td>\n",
              "      <td>29.2800</td>\n",
              "      <td>28.6340</td>\n",
              "      <td>10.342857</td>\n",
              "      <td>11.43320</td>\n",
              "      <td>9.03377</td>\n",
              "    </tr>\n",
              "    <tr>\n",
              "      <th>10</th>\n",
              "      <td>70</td>\n",
              "      <td>1971</td>\n",
              "      <td>17.028849</td>\n",
              "      <td>44.4069</td>\n",
              "      <td>1.70755</td>\n",
              "      <td>35.544800</td>\n",
              "      <td>44.4069</td>\n",
              "      <td>21.42840</td>\n",
              "      <td>11.674217</td>\n",
              "      <td>44.4069</td>\n",
              "      <td>21.42840</td>\n",
              "      <td>20.175268</td>\n",
              "      <td>29.1591</td>\n",
              "      <td>7.74281</td>\n",
              "      <td>28.316733</td>\n",
              "      <td>29.1591</td>\n",
              "      <td>27.5819</td>\n",
              "      <td>10.024637</td>\n",
              "      <td>11.19050</td>\n",
              "      <td>7.74281</td>\n",
              "    </tr>\n",
              "    <tr>\n",
              "      <th>11</th>\n",
              "      <td>71</td>\n",
              "      <td>1972</td>\n",
              "      <td>22.923497</td>\n",
              "      <td>38.6696</td>\n",
              "      <td>5.55106</td>\n",
              "      <td>28.896633</td>\n",
              "      <td>35.1430</td>\n",
              "      <td>22.14590</td>\n",
              "      <td>25.979800</td>\n",
              "      <td>35.1430</td>\n",
              "      <td>22.14590</td>\n",
              "      <td>19.345729</td>\n",
              "      <td>29.0941</td>\n",
              "      <td>7.14580</td>\n",
              "      <td>28.081033</td>\n",
              "      <td>29.0941</td>\n",
              "      <td>26.9078</td>\n",
              "      <td>8.498817</td>\n",
              "      <td>9.87479</td>\n",
              "      <td>7.14580</td>\n",
              "    </tr>\n",
              "    <tr>\n",
              "      <th>12</th>\n",
              "      <td>72</td>\n",
              "      <td>1973</td>\n",
              "      <td>26.464568</td>\n",
              "      <td>83.0911</td>\n",
              "      <td>0.56221</td>\n",
              "      <td>52.158210</td>\n",
              "      <td>83.0911</td>\n",
              "      <td>6.31663</td>\n",
              "      <td>21.225667</td>\n",
              "      <td>83.0911</td>\n",
              "      <td>6.31663</td>\n",
              "      <td>20.056510</td>\n",
              "      <td>30.1281</td>\n",
              "      <td>7.16177</td>\n",
              "      <td>28.745233</td>\n",
              "      <td>30.1281</td>\n",
              "      <td>27.5854</td>\n",
              "      <td>9.445673</td>\n",
              "      <td>11.68690</td>\n",
              "      <td>7.16177</td>\n",
              "    </tr>\n",
              "    <tr>\n",
              "      <th>13</th>\n",
              "      <td>73</td>\n",
              "      <td>1974</td>\n",
              "      <td>17.776723</td>\n",
              "      <td>41.7686</td>\n",
              "      <td>0.89974</td>\n",
              "      <td>28.623333</td>\n",
              "      <td>41.7686</td>\n",
              "      <td>20.84800</td>\n",
              "      <td>23.394400</td>\n",
              "      <td>41.7686</td>\n",
              "      <td>20.84800</td>\n",
              "      <td>19.670917</td>\n",
              "      <td>28.9807</td>\n",
              "      <td>8.17300</td>\n",
              "      <td>28.333900</td>\n",
              "      <td>28.9807</td>\n",
              "      <td>27.8972</td>\n",
              "      <td>8.468933</td>\n",
              "      <td>9.03787</td>\n",
              "      <td>8.17300</td>\n",
              "    </tr>\n",
              "    <tr>\n",
              "      <th>14</th>\n",
              "      <td>74</td>\n",
              "      <td>1975</td>\n",
              "      <td>30.501122</td>\n",
              "      <td>96.6574</td>\n",
              "      <td>2.73393</td>\n",
              "      <td>62.075033</td>\n",
              "      <td>96.6574</td>\n",
              "      <td>26.26350</td>\n",
              "      <td>20.989317</td>\n",
              "      <td>96.6574</td>\n",
              "      <td>26.26350</td>\n",
              "      <td>19.415618</td>\n",
              "      <td>28.2626</td>\n",
              "      <td>7.53072</td>\n",
              "      <td>27.970200</td>\n",
              "      <td>28.2626</td>\n",
              "      <td>27.5889</td>\n",
              "      <td>9.137107</td>\n",
              "      <td>10.47880</td>\n",
              "      <td>7.53072</td>\n",
              "    </tr>\n",
              "    <tr>\n",
              "      <th>15</th>\n",
              "      <td>75</td>\n",
              "      <td>1976</td>\n",
              "      <td>33.653086</td>\n",
              "      <td>97.6560</td>\n",
              "      <td>1.36519</td>\n",
              "      <td>62.406833</td>\n",
              "      <td>97.6560</td>\n",
              "      <td>21.23500</td>\n",
              "      <td>26.051183</td>\n",
              "      <td>97.6560</td>\n",
              "      <td>21.23500</td>\n",
              "      <td>19.698891</td>\n",
              "      <td>28.8777</td>\n",
              "      <td>9.50869</td>\n",
              "      <td>27.988467</td>\n",
              "      <td>28.8777</td>\n",
              "      <td>26.9977</td>\n",
              "      <td>9.944763</td>\n",
              "      <td>10.32230</td>\n",
              "      <td>9.50869</td>\n",
              "    </tr>\n",
              "    <tr>\n",
              "      <th>16</th>\n",
              "      <td>76</td>\n",
              "      <td>1977</td>\n",
              "      <td>24.605184</td>\n",
              "      <td>74.8961</td>\n",
              "      <td>3.83530</td>\n",
              "      <td>47.048300</td>\n",
              "      <td>74.8961</td>\n",
              "      <td>31.09690</td>\n",
              "      <td>19.692367</td>\n",
              "      <td>74.8961</td>\n",
              "      <td>31.09690</td>\n",
              "      <td>20.528083</td>\n",
              "      <td>28.9070</td>\n",
              "      <td>7.68699</td>\n",
              "      <td>28.468000</td>\n",
              "      <td>28.9070</td>\n",
              "      <td>27.6078</td>\n",
              "      <td>10.139463</td>\n",
              "      <td>11.64530</td>\n",
              "      <td>7.68699</td>\n",
              "    </tr>\n",
              "    <tr>\n",
              "      <th>17</th>\n",
              "      <td>77</td>\n",
              "      <td>1978</td>\n",
              "      <td>31.130028</td>\n",
              "      <td>148.1210</td>\n",
              "      <td>1.69246</td>\n",
              "      <td>76.172800</td>\n",
              "      <td>148.1210</td>\n",
              "      <td>21.23660</td>\n",
              "      <td>13.332697</td>\n",
              "      <td>148.1210</td>\n",
              "      <td>21.23660</td>\n",
              "      <td>20.068417</td>\n",
              "      <td>29.8194</td>\n",
              "      <td>8.03211</td>\n",
              "      <td>28.374867</td>\n",
              "      <td>29.8194</td>\n",
              "      <td>27.6038</td>\n",
              "      <td>9.960737</td>\n",
              "      <td>11.43170</td>\n",
              "      <td>8.03211</td>\n",
              "    </tr>\n",
              "    <tr>\n",
              "      <th>18</th>\n",
              "      <td>78</td>\n",
              "      <td>1979</td>\n",
              "      <td>27.368945</td>\n",
              "      <td>66.4542</td>\n",
              "      <td>4.78184</td>\n",
              "      <td>34.741500</td>\n",
              "      <td>66.4542</td>\n",
              "      <td>12.18490</td>\n",
              "      <td>31.849500</td>\n",
              "      <td>66.4542</td>\n",
              "      <td>12.18490</td>\n",
              "      <td>19.885081</td>\n",
              "      <td>29.3925</td>\n",
              "      <td>9.23467</td>\n",
              "      <td>28.618633</td>\n",
              "      <td>29.3925</td>\n",
              "      <td>27.0829</td>\n",
              "      <td>10.280523</td>\n",
              "      <td>10.97450</td>\n",
              "      <td>9.23467</td>\n",
              "    </tr>\n",
              "    <tr>\n",
              "      <th>19</th>\n",
              "      <td>79</td>\n",
              "      <td>1980</td>\n",
              "      <td>24.896617</td>\n",
              "      <td>62.1531</td>\n",
              "      <td>9.26150</td>\n",
              "      <td>42.159233</td>\n",
              "      <td>62.1531</td>\n",
              "      <td>30.07920</td>\n",
              "      <td>21.559733</td>\n",
              "      <td>62.1531</td>\n",
              "      <td>30.07920</td>\n",
              "      <td>20.389884</td>\n",
              "      <td>29.1966</td>\n",
              "      <td>8.70261</td>\n",
              "      <td>28.683700</td>\n",
              "      <td>29.1966</td>\n",
              "      <td>27.8459</td>\n",
              "      <td>10.321670</td>\n",
              "      <td>11.33500</td>\n",
              "      <td>8.70261</td>\n",
              "    </tr>\n",
              "    <tr>\n",
              "      <th>20</th>\n",
              "      <td>80</td>\n",
              "      <td>1981</td>\n",
              "      <td>27.628438</td>\n",
              "      <td>84.8033</td>\n",
              "      <td>3.23280</td>\n",
              "      <td>43.960043</td>\n",
              "      <td>84.8033</td>\n",
              "      <td>8.78363</td>\n",
              "      <td>22.022667</td>\n",
              "      <td>84.8033</td>\n",
              "      <td>8.78363</td>\n",
              "      <td>20.206408</td>\n",
              "      <td>28.9905</td>\n",
              "      <td>9.36860</td>\n",
              "      <td>28.343667</td>\n",
              "      <td>28.9905</td>\n",
              "      <td>27.4587</td>\n",
              "      <td>10.642867</td>\n",
              "      <td>11.54500</td>\n",
              "      <td>9.36860</td>\n",
              "    </tr>\n",
              "    <tr>\n",
              "      <th>21</th>\n",
              "      <td>81</td>\n",
              "      <td>1982</td>\n",
              "      <td>30.518638</td>\n",
              "      <td>69.4212</td>\n",
              "      <td>5.01978</td>\n",
              "      <td>31.518427</td>\n",
              "      <td>58.7005</td>\n",
              "      <td>5.91588</td>\n",
              "      <td>32.561700</td>\n",
              "      <td>58.7005</td>\n",
              "      <td>5.91588</td>\n",
              "      <td>19.510198</td>\n",
              "      <td>29.0474</td>\n",
              "      <td>9.01251</td>\n",
              "      <td>28.491400</td>\n",
              "      <td>29.0474</td>\n",
              "      <td>27.6932</td>\n",
              "      <td>9.309857</td>\n",
              "      <td>9.85679</td>\n",
              "      <td>9.01251</td>\n",
              "    </tr>\n",
              "    <tr>\n",
              "      <th>22</th>\n",
              "      <td>82</td>\n",
              "      <td>1983</td>\n",
              "      <td>31.638481</td>\n",
              "      <td>105.7880</td>\n",
              "      <td>0.92442</td>\n",
              "      <td>59.437467</td>\n",
              "      <td>105.7880</td>\n",
              "      <td>13.96260</td>\n",
              "      <td>18.518870</td>\n",
              "      <td>105.7880</td>\n",
              "      <td>13.96260</td>\n",
              "      <td>19.611718</td>\n",
              "      <td>28.8602</td>\n",
              "      <td>8.75392</td>\n",
              "      <td>28.548800</td>\n",
              "      <td>28.8602</td>\n",
              "      <td>28.0313</td>\n",
              "      <td>9.610640</td>\n",
              "      <td>10.08490</td>\n",
              "      <td>8.75392</td>\n",
              "    </tr>\n",
              "    <tr>\n",
              "      <th>23</th>\n",
              "      <td>83</td>\n",
              "      <td>1984</td>\n",
              "      <td>23.496383</td>\n",
              "      <td>80.2843</td>\n",
              "      <td>1.63675</td>\n",
              "      <td>48.218500</td>\n",
              "      <td>80.2843</td>\n",
              "      <td>11.70760</td>\n",
              "      <td>12.638970</td>\n",
              "      <td>80.2843</td>\n",
              "      <td>11.70760</td>\n",
              "      <td>19.920437</td>\n",
              "      <td>29.9365</td>\n",
              "      <td>8.05132</td>\n",
              "      <td>28.711200</td>\n",
              "      <td>29.9365</td>\n",
              "      <td>27.8858</td>\n",
              "      <td>8.732380</td>\n",
              "      <td>9.86472</td>\n",
              "      <td>8.05132</td>\n",
              "    </tr>\n",
              "    <tr>\n",
              "      <th>24</th>\n",
              "      <td>84</td>\n",
              "      <td>1985</td>\n",
              "      <td>20.793767</td>\n",
              "      <td>57.1505</td>\n",
              "      <td>1.67728</td>\n",
              "      <td>39.796220</td>\n",
              "      <td>57.1505</td>\n",
              "      <td>7.46966</td>\n",
              "      <td>18.259497</td>\n",
              "      <td>57.1505</td>\n",
              "      <td>7.46966</td>\n",
              "      <td>20.242908</td>\n",
              "      <td>29.0758</td>\n",
              "      <td>8.85419</td>\n",
              "      <td>28.293967</td>\n",
              "      <td>29.0758</td>\n",
              "      <td>27.2145</td>\n",
              "      <td>10.546630</td>\n",
              "      <td>12.23030</td>\n",
              "      <td>8.85419</td>\n",
              "    </tr>\n",
              "    <tr>\n",
              "      <th>25</th>\n",
              "      <td>85</td>\n",
              "      <td>1986</td>\n",
              "      <td>29.117308</td>\n",
              "      <td>94.5262</td>\n",
              "      <td>4.42194</td>\n",
              "      <td>55.247933</td>\n",
              "      <td>94.5262</td>\n",
              "      <td>23.47650</td>\n",
              "      <td>20.507100</td>\n",
              "      <td>94.5262</td>\n",
              "      <td>23.47650</td>\n",
              "      <td>19.578992</td>\n",
              "      <td>29.0014</td>\n",
              "      <td>7.94782</td>\n",
              "      <td>27.958067</td>\n",
              "      <td>29.0014</td>\n",
              "      <td>26.7377</td>\n",
              "      <td>9.064337</td>\n",
              "      <td>10.17440</td>\n",
              "      <td>7.94782</td>\n",
              "    </tr>\n",
              "    <tr>\n",
              "      <th>26</th>\n",
              "      <td>86</td>\n",
              "      <td>1987</td>\n",
              "      <td>19.935799</td>\n",
              "      <td>54.0587</td>\n",
              "      <td>0.29129</td>\n",
              "      <td>22.996033</td>\n",
              "      <td>25.6525</td>\n",
              "      <td>19.98080</td>\n",
              "      <td>12.595367</td>\n",
              "      <td>25.6525</td>\n",
              "      <td>19.98080</td>\n",
              "      <td>20.427150</td>\n",
              "      <td>28.9900</td>\n",
              "      <td>9.56010</td>\n",
              "      <td>28.729800</td>\n",
              "      <td>28.9900</td>\n",
              "      <td>28.4723</td>\n",
              "      <td>10.826767</td>\n",
              "      <td>11.85720</td>\n",
              "      <td>9.56010</td>\n",
              "    </tr>\n",
              "    <tr>\n",
              "      <th>27</th>\n",
              "      <td>87</td>\n",
              "      <td>1988</td>\n",
              "      <td>26.936088</td>\n",
              "      <td>100.4000</td>\n",
              "      <td>0.71824</td>\n",
              "      <td>58.585233</td>\n",
              "      <td>100.4000</td>\n",
              "      <td>17.92780</td>\n",
              "      <td>18.191500</td>\n",
              "      <td>100.4000</td>\n",
              "      <td>17.92780</td>\n",
              "      <td>20.858067</td>\n",
              "      <td>29.5936</td>\n",
              "      <td>10.21910</td>\n",
              "      <td>28.785167</td>\n",
              "      <td>29.5936</td>\n",
              "      <td>27.6918</td>\n",
              "      <td>11.271800</td>\n",
              "      <td>11.95800</td>\n",
              "      <td>10.21910</td>\n",
              "    </tr>\n",
              "    <tr>\n",
              "      <th>28</th>\n",
              "      <td>88</td>\n",
              "      <td>1989</td>\n",
              "      <td>26.215842</td>\n",
              "      <td>111.2550</td>\n",
              "      <td>3.13078</td>\n",
              "      <td>57.976733</td>\n",
              "      <td>111.2550</td>\n",
              "      <td>14.39440</td>\n",
              "      <td>17.283467</td>\n",
              "      <td>111.2550</td>\n",
              "      <td>14.39440</td>\n",
              "      <td>19.541077</td>\n",
              "      <td>28.3993</td>\n",
              "      <td>7.85848</td>\n",
              "      <td>27.698833</td>\n",
              "      <td>28.3993</td>\n",
              "      <td>26.8069</td>\n",
              "      <td>9.469407</td>\n",
              "      <td>11.03250</td>\n",
              "      <td>7.85848</td>\n",
              "    </tr>\n",
              "    <tr>\n",
              "      <th>29</th>\n",
              "      <td>89</td>\n",
              "      <td>1990</td>\n",
              "      <td>32.242762</td>\n",
              "      <td>100.1310</td>\n",
              "      <td>3.57717</td>\n",
              "      <td>46.020200</td>\n",
              "      <td>100.1310</td>\n",
              "      <td>10.11190</td>\n",
              "      <td>44.830667</td>\n",
              "      <td>100.1310</td>\n",
              "      <td>10.11190</td>\n",
              "      <td>20.353342</td>\n",
              "      <td>29.1841</td>\n",
              "      <td>10.42130</td>\n",
              "      <td>28.683900</td>\n",
              "      <td>29.1841</td>\n",
              "      <td>27.9642</td>\n",
              "      <td>10.661167</td>\n",
              "      <td>10.99660</td>\n",
              "      <td>10.42130</td>\n",
              "    </tr>\n",
              "    <tr>\n",
              "      <th>30</th>\n",
              "      <td>90</td>\n",
              "      <td>1991</td>\n",
              "      <td>24.050541</td>\n",
              "      <td>43.0430</td>\n",
              "      <td>2.17714</td>\n",
              "      <td>21.529633</td>\n",
              "      <td>33.4900</td>\n",
              "      <td>10.79110</td>\n",
              "      <td>25.116797</td>\n",
              "      <td>33.4900</td>\n",
              "      <td>10.79110</td>\n",
              "      <td>19.842869</td>\n",
              "      <td>29.3048</td>\n",
              "      <td>8.28290</td>\n",
              "      <td>28.703900</td>\n",
              "      <td>29.3048</td>\n",
              "      <td>27.7450</td>\n",
              "      <td>9.984110</td>\n",
              "      <td>11.67440</td>\n",
              "      <td>8.28290</td>\n",
              "    </tr>\n",
              "    <tr>\n",
              "      <th>31</th>\n",
              "      <td>91</td>\n",
              "      <td>1992</td>\n",
              "      <td>31.548378</td>\n",
              "      <td>69.1804</td>\n",
              "      <td>5.56877</td>\n",
              "      <td>43.207090</td>\n",
              "      <td>69.1804</td>\n",
              "      <td>5.56877</td>\n",
              "      <td>32.256833</td>\n",
              "      <td>69.1804</td>\n",
              "      <td>5.56877</td>\n",
              "      <td>19.705822</td>\n",
              "      <td>29.2299</td>\n",
              "      <td>9.06016</td>\n",
              "      <td>28.200233</td>\n",
              "      <td>29.2299</td>\n",
              "      <td>26.9621</td>\n",
              "      <td>10.587353</td>\n",
              "      <td>12.15240</td>\n",
              "      <td>9.06016</td>\n",
              "    </tr>\n",
              "    <tr>\n",
              "      <th>32</th>\n",
              "      <td>92</td>\n",
              "      <td>1993</td>\n",
              "      <td>20.733389</td>\n",
              "      <td>73.2203</td>\n",
              "      <td>0.80544</td>\n",
              "      <td>34.933967</td>\n",
              "      <td>73.2203</td>\n",
              "      <td>11.89720</td>\n",
              "      <td>15.417347</td>\n",
              "      <td>73.2203</td>\n",
              "      <td>11.89720</td>\n",
              "      <td>20.407645</td>\n",
              "      <td>28.9541</td>\n",
              "      <td>8.77164</td>\n",
              "      <td>28.356933</td>\n",
              "      <td>28.9541</td>\n",
              "      <td>27.8340</td>\n",
              "      <td>11.172047</td>\n",
              "      <td>13.26860</td>\n",
              "      <td>8.77164</td>\n",
              "    </tr>\n",
              "    <tr>\n",
              "      <th>33</th>\n",
              "      <td>93</td>\n",
              "      <td>1994</td>\n",
              "      <td>35.272982</td>\n",
              "      <td>116.9730</td>\n",
              "      <td>3.08639</td>\n",
              "      <td>74.168267</td>\n",
              "      <td>116.9730</td>\n",
              "      <td>21.58630</td>\n",
              "      <td>24.706233</td>\n",
              "      <td>116.9730</td>\n",
              "      <td>21.58630</td>\n",
              "      <td>20.111693</td>\n",
              "      <td>29.5395</td>\n",
              "      <td>9.52572</td>\n",
              "      <td>28.471467</td>\n",
              "      <td>29.5395</td>\n",
              "      <td>27.6323</td>\n",
              "      <td>10.193840</td>\n",
              "      <td>10.65880</td>\n",
              "      <td>9.52572</td>\n",
              "    </tr>\n",
              "    <tr>\n",
              "      <th>34</th>\n",
              "      <td>94</td>\n",
              "      <td>1995</td>\n",
              "      <td>29.386670</td>\n",
              "      <td>97.9396</td>\n",
              "      <td>5.24833</td>\n",
              "      <td>57.207700</td>\n",
              "      <td>97.9396</td>\n",
              "      <td>15.13670</td>\n",
              "      <td>20.400970</td>\n",
              "      <td>97.9396</td>\n",
              "      <td>15.13670</td>\n",
              "      <td>19.943789</td>\n",
              "      <td>29.5621</td>\n",
              "      <td>8.65067</td>\n",
              "      <td>28.670100</td>\n",
              "      <td>29.5621</td>\n",
              "      <td>27.7186</td>\n",
              "      <td>10.076190</td>\n",
              "      <td>11.35250</td>\n",
              "      <td>8.65067</td>\n",
              "    </tr>\n",
              "    <tr>\n",
              "      <th>35</th>\n",
              "      <td>95</td>\n",
              "      <td>1996</td>\n",
              "      <td>28.554229</td>\n",
              "      <td>54.5763</td>\n",
              "      <td>3.83853</td>\n",
              "      <td>45.892733</td>\n",
              "      <td>54.5763</td>\n",
              "      <td>37.55030</td>\n",
              "      <td>24.846773</td>\n",
              "      <td>54.5763</td>\n",
              "      <td>37.55030</td>\n",
              "      <td>19.859887</td>\n",
              "      <td>28.4034</td>\n",
              "      <td>8.36005</td>\n",
              "      <td>27.930067</td>\n",
              "      <td>28.4034</td>\n",
              "      <td>27.0528</td>\n",
              "      <td>10.031283</td>\n",
              "      <td>11.80060</td>\n",
              "      <td>8.36005</td>\n",
              "    </tr>\n",
              "    <tr>\n",
              "      <th>36</th>\n",
              "      <td>96</td>\n",
              "      <td>1997</td>\n",
              "      <td>30.677396</td>\n",
              "      <td>84.8412</td>\n",
              "      <td>5.92436</td>\n",
              "      <td>59.476600</td>\n",
              "      <td>84.8412</td>\n",
              "      <td>32.53920</td>\n",
              "      <td>14.374087</td>\n",
              "      <td>84.8412</td>\n",
              "      <td>32.53920</td>\n",
              "      <td>19.444739</td>\n",
              "      <td>29.2669</td>\n",
              "      <td>8.51052</td>\n",
              "      <td>28.141600</td>\n",
              "      <td>29.2669</td>\n",
              "      <td>27.3021</td>\n",
              "      <td>9.709890</td>\n",
              "      <td>11.07330</td>\n",
              "      <td>8.51052</td>\n",
              "    </tr>\n",
              "    <tr>\n",
              "      <th>37</th>\n",
              "      <td>97</td>\n",
              "      <td>1998</td>\n",
              "      <td>25.076168</td>\n",
              "      <td>49.0101</td>\n",
              "      <td>0.16185</td>\n",
              "      <td>34.341267</td>\n",
              "      <td>49.0101</td>\n",
              "      <td>25.04400</td>\n",
              "      <td>24.414917</td>\n",
              "      <td>49.0101</td>\n",
              "      <td>25.04400</td>\n",
              "      <td>20.465837</td>\n",
              "      <td>29.0016</td>\n",
              "      <td>9.01244</td>\n",
              "      <td>28.635267</td>\n",
              "      <td>29.0016</td>\n",
              "      <td>28.3712</td>\n",
              "      <td>10.478147</td>\n",
              "      <td>11.51130</td>\n",
              "      <td>9.01244</td>\n",
              "    </tr>\n",
              "    <tr>\n",
              "      <th>38</th>\n",
              "      <td>98</td>\n",
              "      <td>1999</td>\n",
              "      <td>21.135063</td>\n",
              "      <td>45.1223</td>\n",
              "      <td>0.24637</td>\n",
              "      <td>31.064460</td>\n",
              "      <td>45.1223</td>\n",
              "      <td>9.80438</td>\n",
              "      <td>23.117390</td>\n",
              "      <td>45.1223</td>\n",
              "      <td>9.80438</td>\n",
              "      <td>20.855873</td>\n",
              "      <td>29.2285</td>\n",
              "      <td>8.62707</td>\n",
              "      <td>28.672433</td>\n",
              "      <td>29.2285</td>\n",
              "      <td>27.6811</td>\n",
              "      <td>10.625057</td>\n",
              "      <td>11.92470</td>\n",
              "      <td>8.62707</td>\n",
              "    </tr>\n",
              "    <tr>\n",
              "      <th>39</th>\n",
              "      <td>99</td>\n",
              "      <td>2000</td>\n",
              "      <td>15.983080</td>\n",
              "      <td>57.1515</td>\n",
              "      <td>3.36167</td>\n",
              "      <td>35.461100</td>\n",
              "      <td>57.1515</td>\n",
              "      <td>16.55110</td>\n",
              "      <td>13.277543</td>\n",
              "      <td>57.1515</td>\n",
              "      <td>16.55110</td>\n",
              "      <td>20.692856</td>\n",
              "      <td>28.9764</td>\n",
              "      <td>9.58937</td>\n",
              "      <td>28.304567</td>\n",
              "      <td>28.9764</td>\n",
              "      <td>27.6537</td>\n",
              "      <td>10.444657</td>\n",
              "      <td>11.50610</td>\n",
              "      <td>9.58937</td>\n",
              "    </tr>\n",
              "    <tr>\n",
              "      <th>40</th>\n",
              "      <td>100</td>\n",
              "      <td>2001</td>\n",
              "      <td>19.488182</td>\n",
              "      <td>70.3518</td>\n",
              "      <td>2.88224</td>\n",
              "      <td>47.114867</td>\n",
              "      <td>70.3518</td>\n",
              "      <td>28.16310</td>\n",
              "      <td>6.319663</td>\n",
              "      <td>70.3518</td>\n",
              "      <td>28.16310</td>\n",
              "      <td>20.780218</td>\n",
              "      <td>28.9762</td>\n",
              "      <td>8.57782</td>\n",
              "      <td>28.408700</td>\n",
              "      <td>28.9762</td>\n",
              "      <td>27.7208</td>\n",
              "      <td>10.913640</td>\n",
              "      <td>12.45970</td>\n",
              "      <td>8.57782</td>\n",
              "    </tr>\n",
              "    <tr>\n",
              "      <th>41</th>\n",
              "      <td>101</td>\n",
              "      <td>2002</td>\n",
              "      <td>17.455713</td>\n",
              "      <td>34.2267</td>\n",
              "      <td>4.25136</td>\n",
              "      <td>23.658267</td>\n",
              "      <td>34.2267</td>\n",
              "      <td>11.48630</td>\n",
              "      <td>15.425857</td>\n",
              "      <td>34.2267</td>\n",
              "      <td>11.48630</td>\n",
              "      <td>20.806961</td>\n",
              "      <td>29.4699</td>\n",
              "      <td>9.43203</td>\n",
              "      <td>28.905767</td>\n",
              "      <td>29.4699</td>\n",
              "      <td>28.1767</td>\n",
              "      <td>10.557343</td>\n",
              "      <td>11.36800</td>\n",
              "      <td>9.43203</td>\n",
              "    </tr>\n",
              "    <tr>\n",
              "      <th>42</th>\n",
              "      <td>102</td>\n",
              "      <td>2003</td>\n",
              "      <td>32.173924</td>\n",
              "      <td>106.5830</td>\n",
              "      <td>4.65043</td>\n",
              "      <td>62.773133</td>\n",
              "      <td>106.5830</td>\n",
              "      <td>13.77820</td>\n",
              "      <td>27.749193</td>\n",
              "      <td>106.5830</td>\n",
              "      <td>13.77820</td>\n",
              "      <td>20.334099</td>\n",
              "      <td>29.6845</td>\n",
              "      <td>9.47909</td>\n",
              "      <td>28.634167</td>\n",
              "      <td>29.6845</td>\n",
              "      <td>27.7522</td>\n",
              "      <td>10.686797</td>\n",
              "      <td>11.78750</td>\n",
              "      <td>9.47909</td>\n",
              "    </tr>\n",
              "    <tr>\n",
              "      <th>43</th>\n",
              "      <td>103</td>\n",
              "      <td>2004</td>\n",
              "      <td>21.477698</td>\n",
              "      <td>55.6869</td>\n",
              "      <td>4.30319</td>\n",
              "      <td>32.933867</td>\n",
              "      <td>55.6869</td>\n",
              "      <td>19.41830</td>\n",
              "      <td>27.135067</td>\n",
              "      <td>55.6869</td>\n",
              "      <td>19.41830</td>\n",
              "      <td>21.051189</td>\n",
              "      <td>28.9904</td>\n",
              "      <td>9.87077</td>\n",
              "      <td>28.502600</td>\n",
              "      <td>28.9904</td>\n",
              "      <td>27.7039</td>\n",
              "      <td>11.449657</td>\n",
              "      <td>12.72190</td>\n",
              "      <td>9.87077</td>\n",
              "    </tr>\n",
              "    <tr>\n",
              "      <th>44</th>\n",
              "      <td>104</td>\n",
              "      <td>2005</td>\n",
              "      <td>26.974240</td>\n",
              "      <td>58.6492</td>\n",
              "      <td>3.99261</td>\n",
              "      <td>30.352030</td>\n",
              "      <td>56.0509</td>\n",
              "      <td>7.38339</td>\n",
              "      <td>33.299670</td>\n",
              "      <td>56.0509</td>\n",
              "      <td>7.38339</td>\n",
              "      <td>20.151032</td>\n",
              "      <td>29.4413</td>\n",
              "      <td>8.35979</td>\n",
              "      <td>28.656433</td>\n",
              "      <td>29.4413</td>\n",
              "      <td>27.8629</td>\n",
              "      <td>9.542663</td>\n",
              "      <td>10.52050</td>\n",
              "      <td>8.35979</td>\n",
              "    </tr>\n",
              "    <tr>\n",
              "      <th>45</th>\n",
              "      <td>105</td>\n",
              "      <td>2006</td>\n",
              "      <td>30.470729</td>\n",
              "      <td>92.8018</td>\n",
              "      <td>9.25805</td>\n",
              "      <td>56.467067</td>\n",
              "      <td>92.8018</td>\n",
              "      <td>19.70320</td>\n",
              "      <td>29.405033</td>\n",
              "      <td>92.8018</td>\n",
              "      <td>19.70320</td>\n",
              "      <td>20.994692</td>\n",
              "      <td>29.4468</td>\n",
              "      <td>8.68721</td>\n",
              "      <td>28.453833</td>\n",
              "      <td>29.4468</td>\n",
              "      <td>27.5133</td>\n",
              "      <td>11.189670</td>\n",
              "      <td>14.64390</td>\n",
              "      <td>8.68721</td>\n",
              "    </tr>\n",
              "    <tr>\n",
              "      <th>46</th>\n",
              "      <td>106</td>\n",
              "      <td>2007</td>\n",
              "      <td>26.539996</td>\n",
              "      <td>63.3527</td>\n",
              "      <td>0.73853</td>\n",
              "      <td>46.991967</td>\n",
              "      <td>60.6515</td>\n",
              "      <td>37.81910</td>\n",
              "      <td>20.539297</td>\n",
              "      <td>60.6515</td>\n",
              "      <td>37.81910</td>\n",
              "      <td>20.618028</td>\n",
              "      <td>28.8231</td>\n",
              "      <td>9.10904</td>\n",
              "      <td>28.533933</td>\n",
              "      <td>28.8231</td>\n",
              "      <td>28.0883</td>\n",
              "      <td>10.547513</td>\n",
              "      <td>12.31710</td>\n",
              "      <td>9.10904</td>\n",
              "    </tr>\n",
              "    <tr>\n",
              "      <th>47</th>\n",
              "      <td>107</td>\n",
              "      <td>2008</td>\n",
              "      <td>28.102989</td>\n",
              "      <td>90.4538</td>\n",
              "      <td>2.83751</td>\n",
              "      <td>55.056200</td>\n",
              "      <td>90.4538</td>\n",
              "      <td>26.20550</td>\n",
              "      <td>28.519833</td>\n",
              "      <td>90.4538</td>\n",
              "      <td>26.20550</td>\n",
              "      <td>20.514409</td>\n",
              "      <td>29.8011</td>\n",
              "      <td>6.83578</td>\n",
              "      <td>28.641300</td>\n",
              "      <td>29.8011</td>\n",
              "      <td>27.0904</td>\n",
              "      <td>9.485337</td>\n",
              "      <td>11.72520</td>\n",
              "      <td>6.83578</td>\n",
              "    </tr>\n",
              "    <tr>\n",
              "      <th>48</th>\n",
              "      <td>108</td>\n",
              "      <td>2009</td>\n",
              "      <td>23.550433</td>\n",
              "      <td>50.6734</td>\n",
              "      <td>3.95780</td>\n",
              "      <td>33.238800</td>\n",
              "      <td>50.6734</td>\n",
              "      <td>18.25740</td>\n",
              "      <td>27.968667</td>\n",
              "      <td>50.6734</td>\n",
              "      <td>18.25740</td>\n",
              "      <td>20.910592</td>\n",
              "      <td>29.3437</td>\n",
              "      <td>10.03050</td>\n",
              "      <td>28.975933</td>\n",
              "      <td>29.3437</td>\n",
              "      <td>28.5178</td>\n",
              "      <td>11.471033</td>\n",
              "      <td>13.00690</td>\n",
              "      <td>10.03050</td>\n",
              "    </tr>\n",
              "    <tr>\n",
              "      <th>49</th>\n",
              "      <td>109</td>\n",
              "      <td>2010</td>\n",
              "      <td>32.079900</td>\n",
              "      <td>113.1860</td>\n",
              "      <td>1.60891</td>\n",
              "      <td>81.342467</td>\n",
              "      <td>113.1860</td>\n",
              "      <td>25.62140</td>\n",
              "      <td>14.838117</td>\n",
              "      <td>113.1860</td>\n",
              "      <td>25.62140</td>\n",
              "      <td>20.999923</td>\n",
              "      <td>28.7290</td>\n",
              "      <td>9.97607</td>\n",
              "      <td>28.288233</td>\n",
              "      <td>28.7290</td>\n",
              "      <td>27.6291</td>\n",
              "      <td>10.675023</td>\n",
              "      <td>11.78850</td>\n",
              "      <td>9.97607</td>\n",
              "    </tr>\n",
              "    <tr>\n",
              "      <th>50</th>\n",
              "      <td>110</td>\n",
              "      <td>2011</td>\n",
              "      <td>26.790030</td>\n",
              "      <td>80.6547</td>\n",
              "      <td>2.56967</td>\n",
              "      <td>44.754800</td>\n",
              "      <td>80.6547</td>\n",
              "      <td>16.10500</td>\n",
              "      <td>23.937790</td>\n",
              "      <td>80.6547</td>\n",
              "      <td>16.10500</td>\n",
              "      <td>20.724895</td>\n",
              "      <td>29.9848</td>\n",
              "      <td>8.38794</td>\n",
              "      <td>28.984100</td>\n",
              "      <td>29.9848</td>\n",
              "      <td>28.0998</td>\n",
              "      <td>9.998013</td>\n",
              "      <td>11.41270</td>\n",
              "      <td>8.38794</td>\n",
              "    </tr>\n",
              "    <tr>\n",
              "      <th>51</th>\n",
              "      <td>111</td>\n",
              "      <td>2012</td>\n",
              "      <td>22.835234</td>\n",
              "      <td>51.5706</td>\n",
              "      <td>3.56023</td>\n",
              "      <td>26.475647</td>\n",
              "      <td>45.5465</td>\n",
              "      <td>7.12074</td>\n",
              "      <td>21.078600</td>\n",
              "      <td>45.5465</td>\n",
              "      <td>7.12074</td>\n",
              "      <td>20.053536</td>\n",
              "      <td>29.6738</td>\n",
              "      <td>7.89622</td>\n",
              "      <td>28.884033</td>\n",
              "      <td>29.6738</td>\n",
              "      <td>27.9640</td>\n",
              "      <td>9.315977</td>\n",
              "      <td>10.95120</td>\n",
              "      <td>7.89622</td>\n",
              "    </tr>\n",
              "    <tr>\n",
              "      <th>52</th>\n",
              "      <td>112</td>\n",
              "      <td>2013</td>\n",
              "      <td>29.153537</td>\n",
              "      <td>72.2680</td>\n",
              "      <td>2.00393</td>\n",
              "      <td>51.947367</td>\n",
              "      <td>72.2680</td>\n",
              "      <td>37.79940</td>\n",
              "      <td>20.328143</td>\n",
              "      <td>72.2680</td>\n",
              "      <td>37.79940</td>\n",
              "      <td>20.652717</td>\n",
              "      <td>29.8533</td>\n",
              "      <td>9.20590</td>\n",
              "      <td>29.050767</td>\n",
              "      <td>29.8533</td>\n",
              "      <td>27.7081</td>\n",
              "      <td>10.295833</td>\n",
              "      <td>10.96470</td>\n",
              "      <td>9.20590</td>\n",
              "    </tr>\n",
              "    <tr>\n",
              "      <th>53</th>\n",
              "      <td>113</td>\n",
              "      <td>2014</td>\n",
              "      <td>22.957235</td>\n",
              "      <td>55.8119</td>\n",
              "      <td>0.41147</td>\n",
              "      <td>24.299500</td>\n",
              "      <td>30.8147</td>\n",
              "      <td>11.85010</td>\n",
              "      <td>11.533523</td>\n",
              "      <td>30.8147</td>\n",
              "      <td>11.85010</td>\n",
              "      <td>20.527867</td>\n",
              "      <td>30.3058</td>\n",
              "      <td>9.22441</td>\n",
              "      <td>29.541833</td>\n",
              "      <td>30.3058</td>\n",
              "      <td>28.5060</td>\n",
              "      <td>9.819770</td>\n",
              "      <td>10.13500</td>\n",
              "      <td>9.22441</td>\n",
              "    </tr>\n",
              "    <tr>\n",
              "      <th>54</th>\n",
              "      <td>114</td>\n",
              "      <td>2015</td>\n",
              "      <td>33.140839</td>\n",
              "      <td>72.6114</td>\n",
              "      <td>6.00726</td>\n",
              "      <td>57.059400</td>\n",
              "      <td>72.6114</td>\n",
              "      <td>28.98600</td>\n",
              "      <td>17.765287</td>\n",
              "      <td>72.6114</td>\n",
              "      <td>28.98600</td>\n",
              "      <td>20.559059</td>\n",
              "      <td>29.4065</td>\n",
              "      <td>9.50221</td>\n",
              "      <td>28.615800</td>\n",
              "      <td>29.4065</td>\n",
              "      <td>27.7268</td>\n",
              "      <td>10.295637</td>\n",
              "      <td>10.81770</td>\n",
              "      <td>9.50221</td>\n",
              "    </tr>\n",
              "    <tr>\n",
              "      <th>55</th>\n",
              "      <td>115</td>\n",
              "      <td>2016</td>\n",
              "      <td>23.913655</td>\n",
              "      <td>60.6061</td>\n",
              "      <td>1.07552</td>\n",
              "      <td>46.913233</td>\n",
              "      <td>60.6061</td>\n",
              "      <td>23.65180</td>\n",
              "      <td>10.787413</td>\n",
              "      <td>60.6061</td>\n",
              "      <td>23.65180</td>\n",
              "      <td>21.414617</td>\n",
              "      <td>30.2144</td>\n",
              "      <td>10.75260</td>\n",
              "      <td>29.168333</td>\n",
              "      <td>30.2144</td>\n",
              "      <td>27.6332</td>\n",
              "      <td>12.068500</td>\n",
              "      <td>12.87630</td>\n",
              "      <td>10.75260</td>\n",
              "    </tr>\n",
              "  </tbody>\n",
              "</table>\n",
              "</div>"
            ],
            "text/plain": [
              "    index  Year  Rain_Year_avg  ...  Winter_avg  Winter_max  Winter_min\n",
              "0      60  1961      30.017449  ...    9.338220     9.74896     9.09557\n",
              "1      61  1962      22.300155  ...    9.881450    12.19980     8.12009\n",
              "2      62  1963      18.846562  ...   11.028640    13.28630     9.27652\n",
              "3      63  1964      25.169663  ...    8.340190    10.63360     5.91348\n",
              "4      64  1965      24.451258  ...   10.209473    10.92270     9.28412\n",
              "5      65  1966      22.548259  ...   10.898300    13.29750     9.15590\n",
              "6      66  1967      31.156436  ...    9.674040    12.35150     7.16669\n",
              "7      67  1968      18.005987  ...    8.851150    10.23360     7.65180\n",
              "8      68  1969      18.716057  ...    9.934787    11.57260     8.29291\n",
              "9      69  1970      25.773367  ...   10.342857    11.43320     9.03377\n",
              "10     70  1971      17.028849  ...   10.024637    11.19050     7.74281\n",
              "11     71  1972      22.923497  ...    8.498817     9.87479     7.14580\n",
              "12     72  1973      26.464568  ...    9.445673    11.68690     7.16177\n",
              "13     73  1974      17.776723  ...    8.468933     9.03787     8.17300\n",
              "14     74  1975      30.501122  ...    9.137107    10.47880     7.53072\n",
              "15     75  1976      33.653086  ...    9.944763    10.32230     9.50869\n",
              "16     76  1977      24.605184  ...   10.139463    11.64530     7.68699\n",
              "17     77  1978      31.130028  ...    9.960737    11.43170     8.03211\n",
              "18     78  1979      27.368945  ...   10.280523    10.97450     9.23467\n",
              "19     79  1980      24.896617  ...   10.321670    11.33500     8.70261\n",
              "20     80  1981      27.628438  ...   10.642867    11.54500     9.36860\n",
              "21     81  1982      30.518638  ...    9.309857     9.85679     9.01251\n",
              "22     82  1983      31.638481  ...    9.610640    10.08490     8.75392\n",
              "23     83  1984      23.496383  ...    8.732380     9.86472     8.05132\n",
              "24     84  1985      20.793767  ...   10.546630    12.23030     8.85419\n",
              "25     85  1986      29.117308  ...    9.064337    10.17440     7.94782\n",
              "26     86  1987      19.935799  ...   10.826767    11.85720     9.56010\n",
              "27     87  1988      26.936088  ...   11.271800    11.95800    10.21910\n",
              "28     88  1989      26.215842  ...    9.469407    11.03250     7.85848\n",
              "29     89  1990      32.242762  ...   10.661167    10.99660    10.42130\n",
              "30     90  1991      24.050541  ...    9.984110    11.67440     8.28290\n",
              "31     91  1992      31.548378  ...   10.587353    12.15240     9.06016\n",
              "32     92  1993      20.733389  ...   11.172047    13.26860     8.77164\n",
              "33     93  1994      35.272982  ...   10.193840    10.65880     9.52572\n",
              "34     94  1995      29.386670  ...   10.076190    11.35250     8.65067\n",
              "35     95  1996      28.554229  ...   10.031283    11.80060     8.36005\n",
              "36     96  1997      30.677396  ...    9.709890    11.07330     8.51052\n",
              "37     97  1998      25.076168  ...   10.478147    11.51130     9.01244\n",
              "38     98  1999      21.135063  ...   10.625057    11.92470     8.62707\n",
              "39     99  2000      15.983080  ...   10.444657    11.50610     9.58937\n",
              "40    100  2001      19.488182  ...   10.913640    12.45970     8.57782\n",
              "41    101  2002      17.455713  ...   10.557343    11.36800     9.43203\n",
              "42    102  2003      32.173924  ...   10.686797    11.78750     9.47909\n",
              "43    103  2004      21.477698  ...   11.449657    12.72190     9.87077\n",
              "44    104  2005      26.974240  ...    9.542663    10.52050     8.35979\n",
              "45    105  2006      30.470729  ...   11.189670    14.64390     8.68721\n",
              "46    106  2007      26.539996  ...   10.547513    12.31710     9.10904\n",
              "47    107  2008      28.102989  ...    9.485337    11.72520     6.83578\n",
              "48    108  2009      23.550433  ...   11.471033    13.00690    10.03050\n",
              "49    109  2010      32.079900  ...   10.675023    11.78850     9.97607\n",
              "50    110  2011      26.790030  ...    9.998013    11.41270     8.38794\n",
              "51    111  2012      22.835234  ...    9.315977    10.95120     7.89622\n",
              "52    112  2013      29.153537  ...   10.295833    10.96470     9.20590\n",
              "53    113  2014      22.957235  ...    9.819770    10.13500     9.22441\n",
              "54    114  2015      33.140839  ...   10.295637    10.81770     9.50221\n",
              "55    115  2016      23.913655  ...   12.068500    12.87630    10.75260\n",
              "\n",
              "[56 rows x 20 columns]"
            ]
          },
          "metadata": {
            "tags": []
          },
          "execution_count": 39
        }
      ]
    },
    {
      "cell_type": "code",
      "metadata": {
        "colab": {
          "base_uri": "https://localhost:8080/"
        },
        "id": "Uf_p320tnZT1",
        "outputId": "8317e092-5f8b-4b42-9f92-d854cca99dbd"
      },
      "source": [
        "X.isnull().values.sum()"
      ],
      "execution_count": 40,
      "outputs": [
        {
          "output_type": "execute_result",
          "data": {
            "text/plain": [
              "0"
            ]
          },
          "metadata": {
            "tags": []
          },
          "execution_count": 40
        }
      ]
    },
    {
      "cell_type": "code",
      "metadata": {
        "id": "khAG2IJveNf7"
      },
      "source": [
        "from sklearn.preprocessing import RobustScaler\n",
        "scaler = RobustScaler() \n",
        "data_scaled = scaler.fit_transform(X)"
      ],
      "execution_count": 41,
      "outputs": []
    },
    {
      "cell_type": "markdown",
      "metadata": {
        "id": "jqPnWXD0owhr"
      },
      "source": [
        "## **Multi Linear Regressor**"
      ]
    },
    {
      "cell_type": "code",
      "metadata": {
        "id": "_p7LOPJmh6en"
      },
      "source": [
        "from sklearn.model_selection import train_test_split\n",
        "X_train, X_test, y_train, y_test = train_test_split(data_scaled, Y, test_size=0.2, random_state=0)"
      ],
      "execution_count": 24,
      "outputs": []
    },
    {
      "cell_type": "code",
      "metadata": {
        "colab": {
          "base_uri": "https://localhost:8080/"
        },
        "id": "xpaHuvSwjC4x",
        "outputId": "a2271408-7fc5-45a1-bc4b-00f274eaa443"
      },
      "source": [
        "from sklearn.linear_model import LinearRegression\n",
        "regressor = LinearRegression()\n",
        "regressor.fit(X_train, y_train)"
      ],
      "execution_count": 25,
      "outputs": [
        {
          "output_type": "execute_result",
          "data": {
            "text/plain": [
              "LinearRegression(copy_X=True, fit_intercept=True, n_jobs=None, normalize=False)"
            ]
          },
          "metadata": {
            "tags": []
          },
          "execution_count": 25
        }
      ]
    },
    {
      "cell_type": "code",
      "metadata": {
        "id": "IiPUP68OoiN2"
      },
      "source": [
        "y_pred = regressor.predict(X_test)"
      ],
      "execution_count": 26,
      "outputs": []
    },
    {
      "cell_type": "code",
      "metadata": {
        "colab": {
          "base_uri": "https://localhost:8080/"
        },
        "id": "Ly4yZOa3jK2O",
        "outputId": "195be815-09da-4e1f-ad65-0cb15c519857"
      },
      "source": [
        "from sklearn import metrics\n",
        "print('Mean Absolute Error:', metrics.mean_absolute_error(y_test, y_pred))\n",
        "print('Mean Squared Error:', metrics.mean_squared_error(y_test, y_pred))\n",
        "print('Root Mean Squared Error:', np.sqrt(metrics.mean_squared_error(y_test, y_pred)))\n",
        "print('R squared score:', np.sqrt(metrics.r2_score(y_test, y_pred)))"
      ],
      "execution_count": 27,
      "outputs": [
        {
          "output_type": "stream",
          "text": [
            "Mean Absolute Error: 1182.3560519720643\n",
            "Mean Squared Error: 1915100.5287766687\n",
            "Root Mean Squared Error: 1383.8715723565783\n",
            "R squared score: 0.9754412607598218\n"
          ],
          "name": "stdout"
        }
      ]
    },
    {
      "cell_type": "code",
      "metadata": {
        "colab": {
          "base_uri": "https://localhost:8080/",
          "height": 296
        },
        "id": "CGKXqpbwpTYN",
        "outputId": "222d6a28-b21d-45e6-de7e-4fd2b80c9e46"
      },
      "source": [
        "df = pd.DataFrame({'Actual': y_test, 'Predicted': y_pred})\n",
        "sns.lineplot(\n",
        "    data=df, x=\"Actual\", y=\"Predicted\", )"
      ],
      "execution_count": 28,
      "outputs": [
        {
          "output_type": "execute_result",
          "data": {
            "text/plain": [
              "<matplotlib.axes._subplots.AxesSubplot at 0x7f226ebdd410>"
            ]
          },
          "metadata": {
            "tags": []
          },
          "execution_count": 28
        },
        {
          "output_type": "display_data",
          "data": {
            "image/png": "[encoded data removed]",
            "text/plain": [
              "<Figure size 432x288 with 1 Axes>"
            ]
          },
          "metadata": {
            "tags": [],
            "needs_background": "light"
          }
        }
      ]
    },
    {
      "cell_type": "code",
      "metadata": {
        "id": "W5gUz8WwZMP7"
      },
      "source": [
        "import pickle"
      ],
      "execution_count": 29,
      "outputs": []
    },
    {
      "cell_type": "code",
      "metadata": {
        "id": "xIE6kijzY0pV"
      },
      "source": [
        "filename = 'finalized_model.sav'\n",
        "pickle.dump(regressor, open(filename, 'wb'))"
      ],
      "execution_count": 30,
      "outputs": []
    },
    {
      "cell_type": "code",
      "metadata": {
        "colab": {
          "base_uri": "https://localhost:8080/"
        },
        "id": "JHiWfchJaVvm",
        "outputId": "bf445059-204a-49ae-e4f8-4629865d22fe"
      },
      "source": [
        "X_test[0]"
      ],
      "execution_count": 31,
      "outputs": [
        {
          "output_type": "execute_result",
          "data": {
            "text/plain": [
              "array([ 0.63636364,  0.58553259,  0.64383831,  2.01208064,  0.49472728,\n",
              "        0.57906251,  0.24487637,  0.92686231,  0.57906251,  0.24487637,\n",
              "        1.02227734,  0.53860456, -0.06285231, -0.12309364,  0.53860456,\n",
              "       -0.51511992,  0.98759971,  2.78035583, -0.06285231])"
            ]
          },
          "metadata": {
            "tags": []
          },
          "execution_count": 31
        }
      ]
    },
    {
      "cell_type": "code",
      "metadata": {
        "id": "flK5qpGKagJ9"
      },
      "source": [
        "array = [2020, 31.63, 105.78, 0.92442, 59.437, 105.78, 13.962, 18.51, 105.7, 13.96, 19, 28, 8, 28.54, 28.86, 28.03, 9.61, 10, 8.75]"
      ],
      "execution_count": 32,
      "outputs": []
    },
    {
      "cell_type": "code",
      "metadata": {
        "id": "CA0QmCd_a9sz"
      },
      "source": [
        "scalerpred = RobustScaler() \n",
        "data_pred = scalerpred.fit_transform([array])"
      ],
      "execution_count": 33,
      "outputs": []
    },
    {
      "cell_type": "code",
      "metadata": {
        "colab": {
          "base_uri": "https://localhost:8080/"
        },
        "id": "I3FKHTNVZ-6F",
        "outputId": "8ab337e6-19bc-477d-de94-10250fdb9360"
      },
      "source": [
        "regressor.predict(data_pred)"
      ],
      "execution_count": 34,
      "outputs": [
        {
          "output_type": "execute_result",
          "data": {
            "text/plain": [
              "array([18155.63479391])"
            ]
          },
          "metadata": {
            "tags": []
          },
          "execution_count": 34
        }
      ]
    },
    {
      "cell_type": "markdown",
      "metadata": {
        "id": "cyHz1bbAZX9D"
      },
      "source": [
        "## **Support Vector Regressor**"
      ]
    },
    {
      "cell_type": "code",
      "metadata": {
        "id": "G9fLS8QOdKH5"
      },
      "source": [
        "from sklearn.svm import SVR"
      ],
      "execution_count": 42,
      "outputs": []
    },
    {
      "cell_type": "markdown",
      "metadata": {
        "id": "gnHVKGQWb2g8"
      },
      "source": [
        "### **Hyperparamter Tuning -- Grid Search**"
      ]
    },
    {
      "cell_type": "code",
      "metadata": {
        "id": "zuLOKKUfZb4V"
      },
      "source": [
        "from sklearn.model_selection import GridSearchCV"
      ],
      "execution_count": 43,
      "outputs": []
    },
    {
      "cell_type": "markdown",
      "metadata": {
        "id": "7M57mg_Ddg5Q"
      },
      "source": [
        "\n",
        " > Hyperparamteres to be fine tuned:\n",
        "1.   Regulisation paramter C\n",
        "2.   Kernel function (linear, poly, rbf, sigmoid and precomputed values)\n"
      ]
    },
    {
      "cell_type": "code",
      "metadata": {
        "id": "shYxkN8CdgEB"
      },
      "source": [
        "parameters = {\n",
        "            'kernel' : ['linear', 'poly', 'rbf', 'sigmoid'],\n",
        "            'C': [0.1, 1, 100, 1000],\n",
        "            'epsilon': [0.0001, 0.0005, 0.001, 0.005, 0.01, 0.05, 0.1, 0.5, 1, 5, 10],\n",
        "            'gamma': [0.0001, 0.001, 0.005, 0.1, 1, 3, 5]\n",
        "        }"
      ],
      "execution_count": 44,
      "outputs": []
    },
    {
      "cell_type": "code",
      "metadata": {
        "id": "5j29PFM1h-uU"
      },
      "source": [
        "gsc = GridSearchCV(\n",
        "        estimator=SVR(),\n",
        "        param_grid=parameters,\n",
        "        cv=5, scoring='neg_mean_squared_error', verbose=0, n_jobs=-1)"
      ],
      "execution_count": 45,
      "outputs": []
    },
    {
      "cell_type": "code",
      "metadata": {
        "id": "HtgfY3XXjue3"
      },
      "source": [
        "X_train1, X_test1, y_train1, y_test1 = train_test_split(data_scaled, Y, test_size=0.2, random_state=0)"
      ],
      "execution_count": 51,
      "outputs": []
    },
    {
      "cell_type": "code",
      "metadata": {
        "colab": {
          "base_uri": "https://localhost:8080/"
        },
        "id": "CMUIVBeCh4OI",
        "outputId": "55012e2e-5d63-402d-9d64-cfa0638b8e45"
      },
      "source": [
        "gsc.fit(X_train1, y_train1)"
      ],
      "execution_count": 52,
      "outputs": [
        {
          "output_type": "execute_result",
          "data": {
            "text/plain": [
              "GridSearchCV(cv=5, error_score=nan,\n",
              "             estimator=SVR(C=1.0, cache_size=200, coef0=0.0, degree=3,\n",
              "                           epsilon=0.1, gamma='scale', kernel='rbf',\n",
              "                           max_iter=-1, shrinking=True, tol=0.001,\n",
              "                           verbose=False),\n",
              "             iid='deprecated', n_jobs=-1,\n",
              "             param_grid={'C': [0.1, 1, 100, 1000],\n",
              "                         'epsilon': [0.0001, 0.0005, 0.001, 0.005, 0.01, 0.05,\n",
              "                                     0.1, 0.5, 1, 5, 10],\n",
              "                         'gamma': [0.0001, 0.001, 0.005, 0.1, 1, 3, 5],\n",
              "                         'kernel': ['linear', 'poly', 'rbf', 'sigmoid']},\n",
              "             pre_dispatch='2*n_jobs', refit=True, return_train_score=False,\n",
              "             scoring='neg_mean_squared_error', verbose=0)"
            ]
          },
          "metadata": {
            "tags": []
          },
          "execution_count": 52
        }
      ]
    },
    {
      "cell_type": "code",
      "metadata": {
        "colab": {
          "base_uri": "https://localhost:8080/"
        },
        "id": "O0vVGIC-epSz",
        "outputId": "ea214fbd-241d-4c66-f076-bbdf30474c76"
      },
      "source": [
        "print(gsc.best_params_)"
      ],
      "execution_count": 53,
      "outputs": [
        {
          "output_type": "stream",
          "text": [
            "{'C': 1000, 'epsilon': 0.0005, 'gamma': 0.0001, 'kernel': 'linear'}\n"
          ],
          "name": "stdout"
        }
      ]
    },
    {
      "cell_type": "markdown",
      "metadata": {
        "id": "BEH25kDkizFa"
      },
      "source": [
        "### **Implementing SVR**"
      ]
    },
    {
      "cell_type": "code",
      "metadata": {
        "id": "uv87LILsi2EO"
      },
      "source": [
        "SVregressor = SVR(C = 1000, epsilon=0.005, gamma=0.0001, kernel='linear')"
      ],
      "execution_count": 54,
      "outputs": []
    },
    {
      "cell_type": "code",
      "metadata": {
        "colab": {
          "base_uri": "https://localhost:8080/"
        },
        "id": "G0lgon72jtDR",
        "outputId": "44c3bbb9-8fd2-4efd-b3b9-a0581e26572c"
      },
      "source": [
        "SVregressor.fit(X_train1, y_train1)"
      ],
      "execution_count": 55,
      "outputs": [
        {
          "output_type": "execute_result",
          "data": {
            "text/plain": [
              "SVR(C=1000, cache_size=200, coef0=0.0, degree=3, epsilon=0.005, gamma=0.0001,\n",
              "    kernel='linear', max_iter=-1, shrinking=True, tol=0.001, verbose=False)"
            ]
          },
          "metadata": {
            "tags": []
          },
          "execution_count": 55
        }
      ]
    },
    {
      "cell_type": "code",
      "metadata": {
        "id": "hfQsXhuhjwZz"
      },
      "source": [
        "y_pred1 = SVregressor.predict(X_test)"
      ],
      "execution_count": 56,
      "outputs": []
    },
    {
      "cell_type": "code",
      "metadata": {
        "colab": {
          "base_uri": "https://localhost:8080/"
        },
        "id": "GaSP8nurj3ba",
        "outputId": "e1c91f47-a297-4c28-b3e4-9fb66d9c7e2f"
      },
      "source": [
        "from sklearn import metrics\n",
        "print('Mean Absolute Error:', metrics.mean_absolute_error(y_test1, y_pred1))\n",
        "print('Mean Squared Error:', metrics.mean_squared_error(y_test1, y_pred1))\n",
        "print('Root Mean Squared Error:', np.sqrt(metrics.mean_squared_error(y_test1, y_pred1)))\n",
        "print('R squared score:', np.sqrt(metrics.r2_score(y_test1, y_pred1)))"
      ],
      "execution_count": 57,
      "outputs": [
        {
          "output_type": "stream",
          "text": [
            "Mean Absolute Error: 1150.5516614833384\n",
            "Mean Squared Error: 2003161.593553774\n",
            "Root Mean Squared Error: 1415.3309130919786\n",
            "R squared score: 0.9742971022167152\n"
          ],
          "name": "stdout"
        }
      ]
    },
    {
      "cell_type": "code",
      "metadata": {
        "colab": {
          "base_uri": "https://localhost:8080/",
          "height": 296
        },
        "id": "ueFp3Y6Bj7tE",
        "outputId": "f17108b3-5e3a-4001-ba57-4a8925e8dba6"
      },
      "source": [
        "df = pd.DataFrame({'Actual': y_test1, 'Predicted': y_pred1})\n",
        "sns.lineplot(\n",
        "    data=df, x=\"Actual\", y=\"Predicted\", )"
      ],
      "execution_count": 58,
      "outputs": [
        {
          "output_type": "execute_result",
          "data": {
            "text/plain": [
              "<matplotlib.axes._subplots.AxesSubplot at 0x7ff5f1365d50>"
            ]
          },
          "metadata": {
            "tags": []
          },
          "execution_count": 58
        },
        {
          "output_type": "display_data",
          "data": {
            "image/png": "[encoded data removed]",
            "text/plain": [
              "<Figure size 432x288 with 1 Axes>"
            ]
          },
          "metadata": {
            "tags": [],
            "needs_background": "light"
          }
        }
      ]
    },
    {
      "cell_type": "code",
      "metadata": {
        "id": "Hjs8Pyeq8vFS",
        "colab": {
          "base_uri": "https://localhost:8080/"
        },
        "outputId": "51dca1e9-be89-4785-c336-c605eb67b859"
      },
      "source": [
        "SVregressor.predict(data_pred)"
      ],
      "execution_count": 59,
      "outputs": [
        {
          "output_type": "execute_result",
          "data": {
            "text/plain": [
              "array([18007.78004753])"
            ]
          },
          "metadata": {
            "tags": []
          },
          "execution_count": 59
        }
      ]
    },
    {
      "cell_type": "markdown",
      "metadata": {
        "id": "jng5xw8S8s-a"
      },
      "source": [
        "## **Random Forest Regressor**"
      ]
    },
    {
      "cell_type": "code",
      "metadata": {
        "colab": {
          "base_uri": "https://localhost:8080/"
        },
        "id": "vqAYRE3S85sQ",
        "outputId": "de917e5a-58b2-4aa8-9609-7a3c77ad475f"
      },
      "source": [
        "# Fitting Random Forest Regression to the dataset\n",
        "# import the regressor\n",
        "from sklearn.ensemble import RandomForestRegressor\n",
        "  \n",
        " # create regressor object\n",
        "RFregressor = RandomForestRegressor(n_estimators = 100, random_state = 0)\n",
        "\n",
        "X_train2, X_test2, y_train2, y_test2 = train_test_split(data_scaled, Y, test_size=0.2, random_state=0)\n",
        "# fit the regressor with x and y data\n",
        "RFregressor.fit(X_train2, y_train2)  "
      ],
      "execution_count": 65,
      "outputs": [
        {
          "output_type": "execute_result",
          "data": {
            "text/plain": [
              "RandomForestRegressor(bootstrap=True, ccp_alpha=0.0, criterion='mse',\n",
              "                      max_depth=None, max_features='auto', max_leaf_nodes=None,\n",
              "                      max_samples=None, min_impurity_decrease=0.0,\n",
              "                      min_impurity_split=None, min_samples_leaf=1,\n",
              "                      min_samples_split=2, min_weight_fraction_leaf=0.0,\n",
              "                      n_estimators=100, n_jobs=None, oob_score=False,\n",
              "                      random_state=0, verbose=0, warm_start=False)"
            ]
          },
          "metadata": {
            "tags": []
          },
          "execution_count": 65
        }
      ]
    },
    {
      "cell_type": "code",
      "metadata": {
        "id": "tN5RuSJzG2WO"
      },
      "source": [
        "y_pred2 = RFregressor.predict(X_test2)"
      ],
      "execution_count": 66,
      "outputs": []
    },
    {
      "cell_type": "code",
      "metadata": {
        "colab": {
          "base_uri": "https://localhost:8080/"
        },
        "id": "a5n35S7CG7gX",
        "outputId": "757444f8-77db-42b4-dd2d-7015f2cae8dc"
      },
      "source": [
        "from sklearn import metrics\n",
        "print('Mean Absolute Error:', metrics.mean_absolute_error(y_test2, y_pred2))\n",
        "print('Mean Squared Error:', metrics.mean_squared_error(y_test2, y_pred2))\n",
        "print('Root Mean Squared Error:', np.sqrt(metrics.mean_squared_error(y_test2, y_pred2)))\n",
        "print('R squared score:', np.sqrt(metrics.r2_score(y_test2, y_pred2)))"
      ],
      "execution_count": 67,
      "outputs": [
        {
          "output_type": "stream",
          "text": [
            "Mean Absolute Error: 976.8791666666663\n",
            "Mean Squared Error: 1554045.0382083328\n",
            "Root Mean Squared Error: 1246.6134277346498\n",
            "R squared score: 0.9801184128569681\n"
          ],
          "name": "stdout"
        }
      ]
    },
    {
      "cell_type": "code",
      "metadata": {
        "colab": {
          "base_uri": "https://localhost:8080/",
          "height": 296
        },
        "id": "UpiiIT1OHBcZ",
        "outputId": "86217070-e7df-447a-d6a5-21d8d003e04e"
      },
      "source": [
        "df = pd.DataFrame({'Actual': y_test2, 'Predicted': y_pred2})\n",
        "sns.lineplot(\n",
        "    data=df, x=\"Actual\", y=\"Predicted\", )"
      ],
      "execution_count": 68,
      "outputs": [
        {
          "output_type": "execute_result",
          "data": {
            "text/plain": [
              "<matplotlib.axes._subplots.AxesSubplot at 0x7ff5ed107210>"
            ]
          },
          "metadata": {
            "tags": []
          },
          "execution_count": 68
        },
        {
          "output_type": "display_data",
          "data": {
            "image/png": "[encoded data removed]",
            "text/plain": [
              "<Figure size 432x288 with 1 Axes>"
            ]
          },
          "metadata": {
            "tags": [],
            "needs_background": "light"
          }
        }
      ]
    },
    {
      "cell_type": "code",
      "metadata": {
        "colab": {
          "base_uri": "https://localhost:8080/"
        },
        "id": "zExX2yDAkRQ4",
        "outputId": "33e38d73-04df-4083-d76b-199181322028"
      },
      "source": [
        "RFregressor.predict(data_pred)"
      ],
      "execution_count": 69,
      "outputs": [
        {
          "output_type": "execute_result",
          "data": {
            "text/plain": [
              "array([18103.8])"
            ]
          },
          "metadata": {
            "tags": []
          },
          "execution_count": 69
        }
      ]
    }
  ]
}