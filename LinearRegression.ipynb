{
  "nbformat": 4,
  "nbformat_minor": 0,
  "metadata": {
    "colab": {
      "name": "DAAProjectCode.ipynb",
      "provenance": [],
      "collapsed_sections": []
    },
    "kernelspec": {
      "name": "python3",
      "display_name": "Python 3"
    }
  },
  "cells": [
    {
      "cell_type": "code",
      "metadata": {
        "id": "sRRQkWwxsoon",
        "colab": {
          "base_uri": "https://localhost:8080/",
          "height": 228
        },
        "outputId": "d49bbfe3-7a1d-40f0-ada9-5dd196dd9b92"
      },
      "source": [
        "!apt-get install -y -qq software-properties-common python-software-properties module-init-tools\n",
        "!add-apt-repository -y ppa:alessandro-strada/ppa 2>&1 > /dev/null\n",
        "!apt-get update -qq 2>&1 > /dev/null\n",
        "!apt-get -y install -qq google-drive-ocamlfuse fuse\n",
        "from google.colab import auth\n",
        "auth.authenticate_user()\n",
        "from oauth2client.client import GoogleCredentials\n",
        "creds = GoogleCredentials.get_application_default()\n",
        "import getpass\n",
        "!google-drive-ocamlfuse -headless -id={creds.client_id} -secret={creds.client_secret} < /dev/null 2>&1 | grep URL\n",
        "vcode = getpass.getpass()\n",
        "!echo {vcode} | google-drive-ocamlfuse -headless -id={creds.client_id} -secret={creds.client_secret}"
      ],
      "execution_count": null,
      "outputs": [
        {
          "output_type": "stream",
          "text": [
            "E: Package 'python-software-properties' has no installation candidate\n",
            "Selecting previously unselected package google-drive-ocamlfuse.\n",
            "(Reading database ... 130811 files and directories currently installed.)\n",
            "Preparing to unpack .../google-drive-ocamlfuse_0.7.3-0ubuntu3~ubuntu18.04.1_amd64.deb ...\n",
            "Unpacking google-drive-ocamlfuse (0.7.3-0ubuntu3~ubuntu18.04.1) ...\n",
            "Setting up google-drive-ocamlfuse (0.7.3-0ubuntu3~ubuntu18.04.1) ...\n",
            "Processing triggers for man-db (2.8.3-2ubuntu0.1) ...\n",
            "Please, open the following URL in a web browser: https://accounts.google.com/o/oauth2/auth?client_id=32555940559.apps.googleusercontent.com&redirect_uri=urn%3Aietf%3Awg%3Aoauth%3A2.0%3Aoob&scope=https%3A%2F%2Fwww.googleapis.com%2Fauth%2Fdrive&response_type=code&access_type=offline&approval_prompt=force\n",
            "··········\n",
            "Please, open the following URL in a web browser: https://accounts.google.com/o/oauth2/auth?client_id=32555940559.apps.googleusercontent.com&redirect_uri=urn%3Aietf%3Awg%3Aoauth%3A2.0%3Aoob&scope=https%3A%2F%2Fwww.googleapis.com%2Fauth%2Fdrive&response_type=code&access_type=offline&approval_prompt=force\n",
            "Please enter the verification code: Access token retrieved correctly.\n"
          ],
          "name": "stdout"
        }
      ]
    },
    {
      "cell_type": "markdown",
      "metadata": {
        "id": "R1I2OTdNiEJi"
      },
      "source": [
        "# Analysing House Prices Through Regression\n",
        "\n",
        "\n",
        "\n",
        "\n"
      ]
    },
    {
      "cell_type": "markdown",
      "metadata": {
        "id": "_BfJdbjNiZoy"
      },
      "source": [
        "## Choosing \"x\":"
      ]
    },
    {
      "cell_type": "code",
      "metadata": {
        "id": "THBQwg1L2MuF"
      },
      "source": [
        "from google.colab import files"
      ],
      "execution_count": null,
      "outputs": []
    },
    {
      "cell_type": "code",
      "metadata": {
        "id": "ZICj2oKRR7Mx"
      },
      "source": [
        "import time"
      ],
      "execution_count": null,
      "outputs": []
    },
    {
      "cell_type": "markdown",
      "metadata": {
        "id": "A8c9pj7oh2t7"
      },
      "source": [
        "Importing Required Libraries:"
      ]
    },
    {
      "cell_type": "code",
      "metadata": {
        "id": "4ycwS9P31xdA",
        "colab": {
          "base_uri": "https://localhost:8080/",
          "height": 52
        },
        "outputId": "809d0cd6-b587-4236-d080-4753da9cd8f6"
      },
      "source": [
        "import numpy as np \n",
        "import pandas as pd \n",
        "import matplotlib.pyplot as plt\n",
        "!mkdir -p drive\n",
        "!google-drive-ocamlfuse drive"
      ],
      "execution_count": null,
      "outputs": [
        {
          "output_type": "stream",
          "text": [
            "fuse: mountpoint is not empty\n",
            "fuse: if you are sure this is safe, use the 'nonempty' mount option\n"
          ],
          "name": "stdout"
        }
      ]
    },
    {
      "cell_type": "code",
      "metadata": {
        "id": "cLdEieQBuAN5",
        "colab": {
          "base_uri": "https://localhost:8080/",
          "height": 69
        },
        "outputId": "a492474c-7bad-4e20-ae11-1f5cd3af19cd"
      },
      "source": [
        "!pip install sklearn.cross_validation"
      ],
      "execution_count": null,
      "outputs": [
        {
          "output_type": "stream",
          "text": [
            "Collecting sklearn.cross_validation\n",
            "\u001b[31m  ERROR: Could not find a version that satisfies the requirement sklearn.cross_validation (from versions: none)\u001b[0m\n",
            "\u001b[31mERROR: No matching distribution found for sklearn.cross_validation\u001b[0m\n"
          ],
          "name": "stdout"
        }
      ]
    },
    {
      "cell_type": "code",
      "metadata": {
        "id": "0IAQV823uP4r"
      },
      "source": [
        "from sklearn.model_selection import train_test_split "
      ],
      "execution_count": null,
      "outputs": []
    },
    {
      "cell_type": "code",
      "metadata": {
        "id": "zVDE_I4hwo0K"
      },
      "source": [
        "from sklearn.linear_model import LinearRegression "
      ],
      "execution_count": null,
      "outputs": []
    },
    {
      "cell_type": "markdown",
      "metadata": {
        "id": "-q1QLkLbiuPL"
      },
      "source": [
        "Importing the data:"
      ]
    },
    {
      "cell_type": "code",
      "metadata": {
        "id": "vYIhdVcfikby"
      },
      "source": [
        "dataset = pd.read_csv('drive/house_data.csv')"
      ],
      "execution_count": null,
      "outputs": []
    },
    {
      "cell_type": "code",
      "metadata": {
        "id": "wH_ez7H2kd2K",
        "colab": {
          "base_uri": "https://localhost:8080/",
          "height": 256
        },
        "outputId": "195488d2-f0cd-4c5a-d60c-a7d799ddb305"
      },
      "source": [
        "dataset.head()"
      ],
      "execution_count": null,
      "outputs": [
        {
          "output_type": "execute_result",
          "data": {
            "text/html": [
              "<div>\n",
              "<style scoped>\n",
              "    .dataframe tbody tr th:only-of-type {\n",
              "        vertical-align: middle;\n",
              "    }\n",
              "\n",
              "    .dataframe tbody tr th {\n",
              "        vertical-align: top;\n",
              "    }\n",
              "\n",
              "    .dataframe thead th {\n",
              "        text-align: right;\n",
              "    }\n",
              "</style>\n",
              "<table border=\"1\" class=\"dataframe\">\n",
              "  <thead>\n",
              "    <tr style=\"text-align: right;\">\n",
              "      <th></th>\n",
              "      <th>id</th>\n",
              "      <th>date</th>\n",
              "      <th>price</th>\n",
              "      <th>bedrooms</th>\n",
              "      <th>bathrooms</th>\n",
              "      <th>sqft_living</th>\n",
              "      <th>sqft_lot</th>\n",
              "      <th>floors</th>\n",
              "      <th>waterfront</th>\n",
              "      <th>view</th>\n",
              "      <th>...</th>\n",
              "      <th>grade</th>\n",
              "      <th>sqft_above</th>\n",
              "      <th>sqft_basement</th>\n",
              "      <th>yr_built</th>\n",
              "      <th>yr_renovated</th>\n",
              "      <th>zipcode</th>\n",
              "      <th>lat</th>\n",
              "      <th>long</th>\n",
              "      <th>sqft_living15</th>\n",
              "      <th>sqft_lot15</th>\n",
              "    </tr>\n",
              "  </thead>\n",
              "  <tbody>\n",
              "    <tr>\n",
              "      <th>0</th>\n",
              "      <td>7129300520</td>\n",
              "      <td>20141013T000000</td>\n",
              "      <td>221900.0</td>\n",
              "      <td>3</td>\n",
              "      <td>1.00</td>\n",
              "      <td>1180</td>\n",
              "      <td>5650</td>\n",
              "      <td>1.0</td>\n",
              "      <td>0</td>\n",
              "      <td>0</td>\n",
              "      <td>...</td>\n",
              "      <td>7</td>\n",
              "      <td>1180</td>\n",
              "      <td>0</td>\n",
              "      <td>1955</td>\n",
              "      <td>0</td>\n",
              "      <td>98178</td>\n",
              "      <td>47.5112</td>\n",
              "      <td>-122.257</td>\n",
              "      <td>1340</td>\n",
              "      <td>5650</td>\n",
              "    </tr>\n",
              "    <tr>\n",
              "      <th>1</th>\n",
              "      <td>6414100192</td>\n",
              "      <td>20141209T000000</td>\n",
              "      <td>538000.0</td>\n",
              "      <td>3</td>\n",
              "      <td>2.25</td>\n",
              "      <td>2570</td>\n",
              "      <td>7242</td>\n",
              "      <td>2.0</td>\n",
              "      <td>0</td>\n",
              "      <td>0</td>\n",
              "      <td>...</td>\n",
              "      <td>7</td>\n",
              "      <td>2170</td>\n",
              "      <td>400</td>\n",
              "      <td>1951</td>\n",
              "      <td>1991</td>\n",
              "      <td>98125</td>\n",
              "      <td>47.7210</td>\n",
              "      <td>-122.319</td>\n",
              "      <td>1690</td>\n",
              "      <td>7639</td>\n",
              "    </tr>\n",
              "    <tr>\n",
              "      <th>2</th>\n",
              "      <td>5631500400</td>\n",
              "      <td>20150225T000000</td>\n",
              "      <td>180000.0</td>\n",
              "      <td>2</td>\n",
              "      <td>1.00</td>\n",
              "      <td>770</td>\n",
              "      <td>10000</td>\n",
              "      <td>1.0</td>\n",
              "      <td>0</td>\n",
              "      <td>0</td>\n",
              "      <td>...</td>\n",
              "      <td>6</td>\n",
              "      <td>770</td>\n",
              "      <td>0</td>\n",
              "      <td>1933</td>\n",
              "      <td>0</td>\n",
              "      <td>98028</td>\n",
              "      <td>47.7379</td>\n",
              "      <td>-122.233</td>\n",
              "      <td>2720</td>\n",
              "      <td>8062</td>\n",
              "    </tr>\n",
              "    <tr>\n",
              "      <th>3</th>\n",
              "      <td>2487200875</td>\n",
              "      <td>20141209T000000</td>\n",
              "      <td>604000.0</td>\n",
              "      <td>4</td>\n",
              "      <td>3.00</td>\n",
              "      <td>1960</td>\n",
              "      <td>5000</td>\n",
              "      <td>1.0</td>\n",
              "      <td>0</td>\n",
              "      <td>0</td>\n",
              "      <td>...</td>\n",
              "      <td>7</td>\n",
              "      <td>1050</td>\n",
              "      <td>910</td>\n",
              "      <td>1965</td>\n",
              "      <td>0</td>\n",
              "      <td>98136</td>\n",
              "      <td>47.5208</td>\n",
              "      <td>-122.393</td>\n",
              "      <td>1360</td>\n",
              "      <td>5000</td>\n",
              "    </tr>\n",
              "    <tr>\n",
              "      <th>4</th>\n",
              "      <td>1954400510</td>\n",
              "      <td>20150218T000000</td>\n",
              "      <td>510000.0</td>\n",
              "      <td>3</td>\n",
              "      <td>2.00</td>\n",
              "      <td>1680</td>\n",
              "      <td>8080</td>\n",
              "      <td>1.0</td>\n",
              "      <td>0</td>\n",
              "      <td>0</td>\n",
              "      <td>...</td>\n",
              "      <td>8</td>\n",
              "      <td>1680</td>\n",
              "      <td>0</td>\n",
              "      <td>1987</td>\n",
              "      <td>0</td>\n",
              "      <td>98074</td>\n",
              "      <td>47.6168</td>\n",
              "      <td>-122.045</td>\n",
              "      <td>1800</td>\n",
              "      <td>7503</td>\n",
              "    </tr>\n",
              "  </tbody>\n",
              "</table>\n",
              "<p>5 rows × 21 columns</p>\n",
              "</div>"
            ],
            "text/plain": [
              "           id             date     price  bedrooms  bathrooms  sqft_living  \\\n",
              "0  7129300520  20141013T000000  221900.0         3       1.00         1180   \n",
              "1  6414100192  20141209T000000  538000.0         3       2.25         2570   \n",
              "2  5631500400  20150225T000000  180000.0         2       1.00          770   \n",
              "3  2487200875  20141209T000000  604000.0         4       3.00         1960   \n",
              "4  1954400510  20150218T000000  510000.0         3       2.00         1680   \n",
              "\n",
              "   sqft_lot  floors  waterfront  view  ...  grade  sqft_above  sqft_basement  \\\n",
              "0      5650     1.0           0     0  ...      7        1180              0   \n",
              "1      7242     2.0           0     0  ...      7        2170            400   \n",
              "2     10000     1.0           0     0  ...      6         770              0   \n",
              "3      5000     1.0           0     0  ...      7        1050            910   \n",
              "4      8080     1.0           0     0  ...      8        1680              0   \n",
              "\n",
              "   yr_built  yr_renovated  zipcode      lat     long  sqft_living15  \\\n",
              "0      1955             0    98178  47.5112 -122.257           1340   \n",
              "1      1951          1991    98125  47.7210 -122.319           1690   \n",
              "2      1933             0    98028  47.7379 -122.233           2720   \n",
              "3      1965             0    98136  47.5208 -122.393           1360   \n",
              "4      1987             0    98074  47.6168 -122.045           1800   \n",
              "\n",
              "   sqft_lot15  \n",
              "0        5650  \n",
              "1        7639  \n",
              "2        8062  \n",
              "3        5000  \n",
              "4        7503  \n",
              "\n",
              "[5 rows x 21 columns]"
            ]
          },
          "metadata": {
            "tags": []
          },
          "execution_count": 230
        }
      ]
    },
    {
      "cell_type": "markdown",
      "metadata": {
        "id": "BVDcSZVVmbVD"
      },
      "source": [
        "Looking at the correlation to determine our x-variable:"
      ]
    },
    {
      "cell_type": "code",
      "metadata": {
        "id": "03msm6Lokpr5",
        "colab": {
          "base_uri": "https://localhost:8080/",
          "height": 132
        },
        "outputId": "3c2c7e02-902d-4366-a50d-a726bd49a7c3"
      },
      "source": [
        "dataset.corr()[:2]"
      ],
      "execution_count": null,
      "outputs": [
        {
          "output_type": "execute_result",
          "data": {
            "text/html": [
              "<div>\n",
              "<style scoped>\n",
              "    .dataframe tbody tr th:only-of-type {\n",
              "        vertical-align: middle;\n",
              "    }\n",
              "\n",
              "    .dataframe tbody tr th {\n",
              "        vertical-align: top;\n",
              "    }\n",
              "\n",
              "    .dataframe thead th {\n",
              "        text-align: right;\n",
              "    }\n",
              "</style>\n",
              "<table border=\"1\" class=\"dataframe\">\n",
              "  <thead>\n",
              "    <tr style=\"text-align: right;\">\n",
              "      <th></th>\n",
              "      <th>id</th>\n",
              "      <th>price</th>\n",
              "      <th>bedrooms</th>\n",
              "      <th>bathrooms</th>\n",
              "      <th>sqft_living</th>\n",
              "      <th>sqft_lot</th>\n",
              "      <th>floors</th>\n",
              "      <th>waterfront</th>\n",
              "      <th>view</th>\n",
              "      <th>condition</th>\n",
              "      <th>grade</th>\n",
              "      <th>sqft_above</th>\n",
              "      <th>sqft_basement</th>\n",
              "      <th>yr_built</th>\n",
              "      <th>yr_renovated</th>\n",
              "      <th>zipcode</th>\n",
              "      <th>lat</th>\n",
              "      <th>long</th>\n",
              "      <th>sqft_living15</th>\n",
              "      <th>sqft_lot15</th>\n",
              "    </tr>\n",
              "  </thead>\n",
              "  <tbody>\n",
              "    <tr>\n",
              "      <th>id</th>\n",
              "      <td>1.000000</td>\n",
              "      <td>-0.016762</td>\n",
              "      <td>0.001286</td>\n",
              "      <td>0.005160</td>\n",
              "      <td>-0.012258</td>\n",
              "      <td>-0.132109</td>\n",
              "      <td>0.018525</td>\n",
              "      <td>-0.002721</td>\n",
              "      <td>0.011592</td>\n",
              "      <td>-0.023783</td>\n",
              "      <td>0.008130</td>\n",
              "      <td>-0.010842</td>\n",
              "      <td>-0.005151</td>\n",
              "      <td>0.021380</td>\n",
              "      <td>-0.016907</td>\n",
              "      <td>-0.008224</td>\n",
              "      <td>-0.001891</td>\n",
              "      <td>0.020799</td>\n",
              "      <td>-0.002901</td>\n",
              "      <td>-0.138798</td>\n",
              "    </tr>\n",
              "    <tr>\n",
              "      <th>price</th>\n",
              "      <td>-0.016762</td>\n",
              "      <td>1.000000</td>\n",
              "      <td>0.308350</td>\n",
              "      <td>0.525138</td>\n",
              "      <td>0.702035</td>\n",
              "      <td>0.089661</td>\n",
              "      <td>0.256794</td>\n",
              "      <td>0.266369</td>\n",
              "      <td>0.397293</td>\n",
              "      <td>0.036362</td>\n",
              "      <td>0.667434</td>\n",
              "      <td>0.605567</td>\n",
              "      <td>0.323816</td>\n",
              "      <td>0.054012</td>\n",
              "      <td>0.126434</td>\n",
              "      <td>-0.053203</td>\n",
              "      <td>0.307003</td>\n",
              "      <td>0.021626</td>\n",
              "      <td>0.585379</td>\n",
              "      <td>0.082447</td>\n",
              "    </tr>\n",
              "  </tbody>\n",
              "</table>\n",
              "</div>"
            ],
            "text/plain": [
              "             id     price  bedrooms  bathrooms  sqft_living  sqft_lot  \\\n",
              "id     1.000000 -0.016762  0.001286   0.005160    -0.012258 -0.132109   \n",
              "price -0.016762  1.000000  0.308350   0.525138     0.702035  0.089661   \n",
              "\n",
              "         floors  waterfront      view  condition     grade  sqft_above  \\\n",
              "id     0.018525   -0.002721  0.011592  -0.023783  0.008130   -0.010842   \n",
              "price  0.256794    0.266369  0.397293   0.036362  0.667434    0.605567   \n",
              "\n",
              "       sqft_basement  yr_built  yr_renovated   zipcode       lat      long  \\\n",
              "id         -0.005151  0.021380     -0.016907 -0.008224 -0.001891  0.020799   \n",
              "price       0.323816  0.054012      0.126434 -0.053203  0.307003  0.021626   \n",
              "\n",
              "       sqft_living15  sqft_lot15  \n",
              "id         -0.002901   -0.138798  \n",
              "price       0.585379    0.082447  "
            ]
          },
          "metadata": {
            "tags": []
          },
          "execution_count": 231
        }
      ]
    },
    {
      "cell_type": "markdown",
      "metadata": {
        "id": "JDE0NVfEn8RY"
      },
      "source": [
        "Hence, we use sqft_living as our independant variable, as it has correlation 0.7 "
      ]
    },
    {
      "cell_type": "markdown",
      "metadata": {
        "id": "cUmOpStspQ7n"
      },
      "source": [
        "## Splitting the data to use for our regression model"
      ]
    },
    {
      "cell_type": "code",
      "metadata": {
        "id": "kym8olyppJaf"
      },
      "source": [
        "space = dataset['sqft_living']\n",
        "price=dataset['price']"
      ],
      "execution_count": null,
      "outputs": []
    },
    {
      "cell_type": "code",
      "metadata": {
        "id": "gMpTknIysZ1v"
      },
      "source": [
        "x = np.array(space)\n",
        "y = np.array(price) #reshapes all values of Y or house price to an array"
      ],
      "execution_count": null,
      "outputs": []
    },
    {
      "cell_type": "code",
      "metadata": {
        "id": "EI4ND69-6Dg9",
        "colab": {
          "base_uri": "https://localhost:8080/",
          "height": 34
        },
        "outputId": "1447522f-d281-40f3-d975-8f4adef851bf"
      },
      "source": [
        "print(x)"
      ],
      "execution_count": null,
      "outputs": [
        {
          "output_type": "stream",
          "text": [
            "[1180 2570  770 ... 1020 1600 1020]\n"
          ],
          "name": "stdout"
        }
      ]
    },
    {
      "cell_type": "markdown",
      "metadata": {
        "id": "0uJFiUxqv0DD"
      },
      "source": [
        "Using N = 14, 400 readings of the total 21, 613 readings as our input size N, to calculate our regression line."
      ]
    },
    {
      "cell_type": "code",
      "metadata": {
        "id": "ratPrMhvtXvM",
        "colab": {
          "base_uri": "https://localhost:8080/",
          "height": 52
        },
        "outputId": "6a9395f4-ae33-44ad-fa55-5ed2863169ff"
      },
      "source": [
        "xtrain, xtest, ytrain, ytest = train_test_split(x,y,train_size=14400, random_state=0)"
      ],
      "execution_count": null,
      "outputs": [
        {
          "output_type": "stream",
          "text": [
            "/usr/local/lib/python3.6/dist-packages/sklearn/model_selection/_split.py:2179: FutureWarning: From version 0.21, test_size will always complement train_size unless both are specified.\n",
            "  FutureWarning)\n"
          ],
          "name": "stderr"
        }
      ]
    },
    {
      "cell_type": "markdown",
      "metadata": {
        "id": "8bPH17j-zGg6"
      },
      "source": [
        "## The Regression Algorithm"
      ]
    },
    {
      "cell_type": "markdown",
      "metadata": {
        "id": "HF9C5i3tz5aA"
      },
      "source": [
        "### Calculating coefficients"
      ]
    },
    {
      "cell_type": "code",
      "metadata": {
        "id": "6BFSJuZb3PAL"
      },
      "source": [
        "start=time.time()"
      ],
      "execution_count": null,
      "outputs": []
    },
    {
      "cell_type": "code",
      "metadata": {
        "id": "mLwuucarzOO5"
      },
      "source": [
        "x_mean = float(np.mean(xtrain))\n",
        "y_mean = float(np.mean(ytrain))"
      ],
      "execution_count": null,
      "outputs": []
    },
    {
      "cell_type": "markdown",
      "metadata": {
        "id": "IzF3EeM0lQcr"
      },
      "source": [
        "mean=sum of values/ number of values \n",
        "as if n is the number of value then computational complexity of the mean would mostly depend on the time it takes to sum n terms. Therefore complexity is O(n) for this block."
      ]
    },
    {
      "cell_type": "code",
      "metadata": {
        "id": "nRwjyMzA18l4"
      },
      "source": [
        "XY = np.multiply(xtrain,ytrain)"
      ],
      "execution_count": null,
      "outputs": []
    },
    {
      "cell_type": "markdown",
      "metadata": {
        "id": "jBYRGic6nN-w"
      },
      "source": [
        "Assuming it takes T(1) time to calculate one multiplication process. it will take nT(1) time to calculaten multiplication processes so the complexity will be O(n)."
      ]
    },
    {
      "cell_type": "code",
      "metadata": {
        "id": "8C-21otA3ZH-"
      },
      "source": [
        "XYmean = float(np.mean(XY))"
      ],
      "execution_count": null,
      "outputs": []
    },
    {
      "cell_type": "markdown",
      "metadata": {
        "id": "gnoc-f85q_2U"
      },
      "source": [
        "O(n) complexity for mean.\n"
      ]
    },
    {
      "cell_type": "code",
      "metadata": {
        "id": "mP5eoZVc2tU4"
      },
      "source": [
        "Xsqr = np.square(xtrain)\n",
        "Xmeansqr = np.square(x_mean)"
      ],
      "execution_count": null,
      "outputs": []
    },
    {
      "cell_type": "markdown",
      "metadata": {
        "id": "xPs3fMQKrLuR"
      },
      "source": [
        "O(n) complexity for squaring n inputs.\n",
        "O(n) complexity for mean of n inputs"
      ]
    },
    {
      "cell_type": "code",
      "metadata": {
        "id": "lT0SVq4G3oVm"
      },
      "source": [
        "Xsqrmean = float(np.mean(Xsqr))"
      ],
      "execution_count": null,
      "outputs": []
    },
    {
      "cell_type": "markdown",
      "metadata": {
        "id": "711zMRud3YK-"
      },
      "source": [
        "O(n) complexity for mean of n inputs"
      ]
    },
    {
      "cell_type": "code",
      "metadata": {
        "id": "ddksZgaY3C_P"
      },
      "source": [
        "b = ((x_mean)*(y_mean) - (XYmean)) / ((Xmeansqr) - (Xsqrmean))"
      ],
      "execution_count": null,
      "outputs": []
    },
    {
      "cell_type": "markdown",
      "metadata": {
        "id": "56Yk9EsI3ao1"
      },
      "source": [
        "b is calculated in constant time therefore complexity is O(1)."
      ]
    },
    {
      "cell_type": "code",
      "metadata": {
        "id": "MVX-8MLhB9Cw",
        "colab": {
          "base_uri": "https://localhost:8080/",
          "height": 34
        },
        "outputId": "651a3fb1-a4f9-44da-e6e9-f0e1d35dca3c"
      },
      "source": [
        "print(b)"
      ],
      "execution_count": null,
      "outputs": [
        {
          "output_type": "stream",
          "text": [
            "273.78254683318926\n"
          ],
          "name": "stdout"
        }
      ]
    },
    {
      "cell_type": "code",
      "metadata": {
        "id": "zQtGHA4c4nU9"
      },
      "source": [
        "a = y_mean - (b* x_mean)"
      ],
      "execution_count": null,
      "outputs": []
    },
    {
      "cell_type": "markdown",
      "metadata": {
        "id": "IarwMenX3mK7"
      },
      "source": [
        "a is calculated in constant time there complexity is O(1)."
      ]
    },
    {
      "cell_type": "code",
      "metadata": {
        "id": "hd_vpS0F_qHC"
      },
      "source": [
        "n = 14400"
      ],
      "execution_count": null,
      "outputs": []
    },
    {
      "cell_type": "code",
      "metadata": {
        "id": "0w828FPLBRep"
      },
      "source": [
        "sumx = np.sum(xtrain)\n",
        "sumy = np.sum(ytrain)\n",
        "sumxy = np.sum(XY)\n",
        "sumXsqr = np.sum(Xsqr)\n",
        "sqrXsum = np.square(sumx)"
      ],
      "execution_count": null,
      "outputs": []
    },
    {
      "cell_type": "markdown",
      "metadata": {
        "id": "VjWpTqKN4Dgr"
      },
      "source": [
        "total complexity of this code block is O(n)+O(n)+O(n)+O(n)+O(n) which is equal to O(n)"
      ]
    },
    {
      "cell_type": "markdown",
      "metadata": {
        "id": "PZUz3Lui4l0e"
      },
      "source": [
        "If we sum up all the complexities of the code blocks it will add up to O(n) which is the complexity of this algorithm."
      ]
    },
    {
      "cell_type": "markdown",
      "metadata": {
        "id": "pa6jAOJp5Cnt"
      },
      "source": [
        "###Making predictions"
      ]
    },
    {
      "cell_type": "markdown",
      "metadata": {
        "id": "gPohooK1kevJ"
      },
      "source": [
        "making a list of the predictions i.e. values for Y^"
      ]
    },
    {
      "cell_type": "code",
      "metadata": {
        "id": "kfVdx99o5H5-"
      },
      "source": [
        "predictions = list()"
      ],
      "execution_count": null,
      "outputs": []
    },
    {
      "cell_type": "markdown",
      "metadata": {
        "id": "f0gN0n7dkmwf"
      },
      "source": [
        "use the coefficients to estimate from the test set."
      ]
    },
    {
      "cell_type": "code",
      "metadata": {
        "id": "yuBr3lywiyVL"
      },
      "source": [
        "for row in xtest:\n",
        "  predY = a + b*row\n",
        "  predictions.append(predY)"
      ],
      "execution_count": null,
      "outputs": []
    },
    {
      "cell_type": "code",
      "metadata": {
        "id": "rGjxNG-QxYuh",
        "colab": {
          "base_uri": "https://localhost:8080/",
          "height": 34
        },
        "outputId": "3523e6fb-441e-498c-f4be-2419916354df"
      },
      "source": [
        "end=time.time()\n",
        "print (end-start)"
      ],
      "execution_count": null,
      "outputs": [
        {
          "output_type": "stream",
          "text": [
            "0.2026364803314209\n"
          ],
          "name": "stdout"
        }
      ]
    },
    {
      "cell_type": "code",
      "metadata": {
        "id": "GQTnEmVBKCIF",
        "colab": {
          "base_uri": "https://localhost:8080/",
          "height": 295
        },
        "outputId": "2db454b8-739f-4d50-e68c-7d9752373801"
      },
      "source": [
        "\n",
        "\n",
        "\n",
        "#Visualizing the training Test Results \n",
        "\n",
        "plt.plot(xtrain, a + b*xtrain , color = 'blue')\n",
        "\n",
        "plt.scatter(xtrain, ytrain, color= 'red')\n",
        "plt.title (\"Visuals for Training Dataset\")\n",
        "plt.xlabel(\"Space\")\n",
        "plt.ylabel(\"Price\")\n",
        "plt.show()\n",
        "\n"
      ],
      "execution_count": null,
      "outputs": [
        {
          "output_type": "display_data",
          "data": {
            "image/png": "[encoded data removed]",
            "text/plain": [
              "<Figure size 432x288 with 1 Axes>"
            ]
          },
          "metadata": {
            "tags": []
          }
        }
      ]
    },
    {
      "cell_type": "code",
      "metadata": {
        "id": "idoSHPQSqpbu",
        "colab": {
          "base_uri": "https://localhost:8080/",
          "height": 295
        },
        "outputId": "e977cf25-5638-435b-cf40-0df6245ba264"
      },
      "source": [
        "#Visualizing the Test Results \n",
        "plt.scatter(xtest, ytest, color= 'red')\n",
        "plt.scatter(xtest, predictions , color = 'blue')\n",
        "plt.title(\"Visuals for Test DataSet\")\n",
        "plt.xlabel(\"Space\")\n",
        "plt.ylabel(\"Price\")\n",
        "plt.show()"
      ],
      "execution_count": null,
      "outputs": [
        {
          "output_type": "display_data",
          "data": {
            "image/png": "[encoded data removed]",
            "text/plain": [
              "<Figure size 432x288 with 1 Axes>"
            ]
          },
          "metadata": {
            "tags": []
          }
        }
      ]
    },
    {
      "cell_type": "code",
      "metadata": {
        "id": "hYVNqLYnreB6"
      },
      "source": [
        "from sklearn.metrics import mean_squared_error\n",
        "from math import sqrt\n",
        "rms = sqrt(mean_squared_error(predictions, ytest))"
      ],
      "execution_count": null,
      "outputs": []
    },
    {
      "cell_type": "code",
      "metadata": {
        "id": "zccrWzrXr03r",
        "colab": {
          "base_uri": "https://localhost:8080/",
          "height": 34
        },
        "outputId": "2265b316-fd95-4dfc-e80a-bdf74ec7fd6b"
      },
      "source": [
        "print(rms)"
      ],
      "execution_count": null,
      "outputs": [
        {
          "output_type": "stream",
          "text": [
            "268528.51829181344\n"
          ],
          "name": "stdout"
        }
      ]
    },
    {
      "cell_type": "markdown",
      "metadata": {
        "id": "PemEIPbtrbA1"
      },
      "source": [
        "## Looking at PCA"
      ]
    },
    {
      "cell_type": "markdown",
      "metadata": {
        "id": "MjA7eNxhKGt_"
      },
      "source": [
        "**Using PCA to extract the most important features from the dataset that are responsible for maximum variance in the output**"
      ]
    },
    {
      "cell_type": "markdown",
      "metadata": {
        "id": "1XjeM7ANwFvW"
      },
      "source": [
        "1.   Calculate covariance matrix\n",
        "2.   Calculate eigen values and eigen vectors of this covariance matrix\n",
        "\n"
      ]
    },
    {
      "cell_type": "markdown",
      "metadata": {
        "id": "_G9aC3gmErVH"
      },
      "source": [
        "Covariance matrix computation is  O(np²); its eigen-value decomposition is O(p^3). So, the complexity of PCA is O(np²+p3)"
      ]
    },
    {
      "cell_type": "markdown",
      "metadata": {
        "id": "UVkO6zDaEptn"
      },
      "source": [
        " covariance matrix computation is matrix multiplication which is  in **O(np²)** since you have to do roughly N operations to fill every of the p² positions in your covariance matrix"
      ]
    },
    {
      "cell_type": "code",
      "metadata": {
        "id": "1VF42SbuFM7e"
      },
      "source": [
        "startPCA=time.time()"
      ],
      "execution_count": null,
      "outputs": []
    },
    {
      "cell_type": "code",
      "metadata": {
        "id": "mW1ul56HuVur"
      },
      "source": [
        "features = ['bedrooms',\t'bathrooms',\t'sqft_living',\t'sqft_lot',\t'floors','waterfront',\t'view',\t'condition'\t,'grade',\t'sqft_above',\t'sqft_basement',\t'yr_built',\t'yr_renovated',\t'zipcode','lat',\t'long',\t'sqft_living15',\t'sqft_lot15']\n",
        "# Separating out the features\n",
        "xPCA = (dataset.loc[:,features]).values"
      ],
      "execution_count": null,
      "outputs": []
    },
    {
      "cell_type": "code",
      "metadata": {
        "id": "F78iNSW8IIaP"
      },
      "source": [
        "from sklearn.preprocessing import StandardScaler\n",
        "\n",
        "# Standardizing the features\n",
        "xPCA = StandardScaler().fit_transform(xPCA)"
      ],
      "execution_count": null,
      "outputs": []
    },
    {
      "cell_type": "code",
      "metadata": {
        "id": "ikz0Tcl0NGaU"
      },
      "source": [
        "yPCA = dataset.loc[:,['price']].values "
      ],
      "execution_count": null,
      "outputs": []
    },
    {
      "cell_type": "code",
      "metadata": {
        "id": "X6ZEjbHvMfvc"
      },
      "source": [
        "from sklearn.decomposition import PCA\n",
        "pca = PCA(n_components=2)\n",
        "principalComponents = pca.fit_transform(xPCA)\n",
        "principalDf = pd.DataFrame(data = principalComponents\n",
        "             , columns = ['principal component 1', 'principal component 2'])"
      ],
      "execution_count": null,
      "outputs": []
    },
    {
      "cell_type": "code",
      "metadata": {
        "id": "kvSq0UYQnfuk",
        "colab": {
          "base_uri": "https://localhost:8080/",
          "height": 206
        },
        "outputId": "6f927540-5e82-48eb-c61f-a51ce6467dec"
      },
      "source": [
        "principalDf.head()"
      ],
      "execution_count": null,
      "outputs": [
        {
          "output_type": "execute_result",
          "data": {
            "text/html": [
              "<div>\n",
              "<style scoped>\n",
              "    .dataframe tbody tr th:only-of-type {\n",
              "        vertical-align: middle;\n",
              "    }\n",
              "\n",
              "    .dataframe tbody tr th {\n",
              "        vertical-align: top;\n",
              "    }\n",
              "\n",
              "    .dataframe thead th {\n",
              "        text-align: right;\n",
              "    }\n",
              "</style>\n",
              "<table border=\"1\" class=\"dataframe\">\n",
              "  <thead>\n",
              "    <tr style=\"text-align: right;\">\n",
              "      <th></th>\n",
              "      <th>principal component 1</th>\n",
              "      <th>principal component 2</th>\n",
              "    </tr>\n",
              "  </thead>\n",
              "  <tbody>\n",
              "    <tr>\n",
              "      <th>0</th>\n",
              "      <td>-2.647852</td>\n",
              "      <td>-0.045169</td>\n",
              "    </tr>\n",
              "    <tr>\n",
              "      <th>1</th>\n",
              "      <td>-0.234486</td>\n",
              "      <td>1.682909</td>\n",
              "    </tr>\n",
              "    <tr>\n",
              "      <th>2</th>\n",
              "      <td>-2.570083</td>\n",
              "      <td>-0.614848</td>\n",
              "    </tr>\n",
              "    <tr>\n",
              "      <th>3</th>\n",
              "      <td>-1.220272</td>\n",
              "      <td>2.076699</td>\n",
              "    </tr>\n",
              "    <tr>\n",
              "      <th>4</th>\n",
              "      <td>-0.286451</td>\n",
              "      <td>-1.117934</td>\n",
              "    </tr>\n",
              "  </tbody>\n",
              "</table>\n",
              "</div>"
            ],
            "text/plain": [
              "   principal component 1  principal component 2\n",
              "0              -2.647852              -0.045169\n",
              "1              -0.234486               1.682909\n",
              "2              -2.570083              -0.614848\n",
              "3              -1.220272               2.076699\n",
              "4              -0.286451              -1.117934"
            ]
          },
          "metadata": {
            "tags": []
          },
          "execution_count": 260
        }
      ]
    },
    {
      "cell_type": "code",
      "metadata": {
        "id": "VyFFr-bGAMF5"
      },
      "source": [
        ""
      ],
      "execution_count": null,
      "outputs": []
    },
    {
      "cell_type": "code",
      "metadata": {
        "id": "XCAxhjE_n14_",
        "colab": {
          "base_uri": "https://localhost:8080/",
          "height": 139
        },
        "outputId": "f767c651-3b7e-4182-b5dd-2270dcb810c7"
      },
      "source": [
        "principalComponents"
      ],
      "execution_count": null,
      "outputs": [
        {
          "output_type": "execute_result",
          "data": {
            "text/plain": [
              "array([[-2.6478517 , -0.0451686 ],\n",
              "       [-0.23448627,  1.68290864],\n",
              "       [-2.57008329, -0.61484829],\n",
              "       ...,\n",
              "       [-2.41985604, -1.10012324],\n",
              "       [ 0.33218342, -1.88038866],\n",
              "       [-2.43180405, -1.08491306]])"
            ]
          },
          "metadata": {
            "tags": []
          },
          "execution_count": 261
        }
      ]
    },
    {
      "cell_type": "code",
      "metadata": {
        "id": "TS9bP2Len8Zj",
        "colab": {
          "base_uri": "https://localhost:8080/",
          "height": 139
        },
        "outputId": "51a4693c-3955-4d3f-e5f7-097123599487"
      },
      "source": [
        "yPCA"
      ],
      "execution_count": null,
      "outputs": [
        {
          "output_type": "execute_result",
          "data": {
            "text/plain": [
              "array([[221900.],\n",
              "       [538000.],\n",
              "       [180000.],\n",
              "       ...,\n",
              "       [402101.],\n",
              "       [400000.],\n",
              "       [325000.]])"
            ]
          },
          "metadata": {
            "tags": []
          },
          "execution_count": 262
        }
      ]
    },
    {
      "cell_type": "code",
      "metadata": {
        "id": "BI_PfCskoAcS"
      },
      "source": [
        "X_train_pca, X_test_pca, y_train_pca, y_test_pca = train_test_split(principalComponents, yPCA, test_size=1/3, random_state=0)"
      ],
      "execution_count": null,
      "outputs": []
    },
    {
      "cell_type": "code",
      "metadata": {
        "id": "dL5LhgH2pbsE",
        "colab": {
          "base_uri": "https://localhost:8080/",
          "height": 52
        },
        "outputId": "62209247-c920-4c48-9632-1f34832400b6"
      },
      "source": [
        "Mregressor = LinearRegression()  \n",
        "Mregressor.fit(X_train_pca, y_train_pca) #training the algorithm"
      ],
      "execution_count": null,
      "outputs": [
        {
          "output_type": "execute_result",
          "data": {
            "text/plain": [
              "LinearRegression(copy_X=True, fit_intercept=True, n_jobs=None,\n",
              "         normalize=False)"
            ]
          },
          "metadata": {
            "tags": []
          },
          "execution_count": 264
        }
      ]
    },
    {
      "cell_type": "code",
      "metadata": {
        "id": "vMjDsWZVp4ev"
      },
      "source": [
        "predPCA = Mregressor.predict(X_test_pca)\n",
        "\n"
      ],
      "execution_count": null,
      "outputs": []
    },
    {
      "cell_type": "code",
      "metadata": {
        "id": "SiCPEeZYxK5p",
        "colab": {
          "base_uri": "https://localhost:8080/",
          "height": 34
        },
        "outputId": "f0b6cb2b-ad15-4c52-db78-ca8fe81209aa"
      },
      "source": [
        "endPCA=time.time()\n",
        "print (endPCA-startPCA)"
      ],
      "execution_count": null,
      "outputs": [
        {
          "output_type": "stream",
          "text": [
            "0.2267000675201416\n"
          ],
          "name": "stdout"
        }
      ]
    },
    {
      "cell_type": "code",
      "metadata": {
        "id": "-9R4kph8rD5b"
      },
      "source": [
        "rmsPCA = sqrt(mean_squared_error(y_test_pca, predPCA))"
      ],
      "execution_count": null,
      "outputs": []
    },
    {
      "cell_type": "code",
      "metadata": {
        "id": "59xqCWWTrNQU",
        "colab": {
          "base_uri": "https://localhost:8080/",
          "height": 34
        },
        "outputId": "93acb69e-4394-48e3-8b06-f2c8d8178f5c"
      },
      "source": [
        "print (rmsPCA)"
      ],
      "execution_count": null,
      "outputs": [
        {
          "output_type": "stream",
          "text": [
            "247033.9610669875\n"
          ],
          "name": "stdout"
        }
      ]
    }
  ]
}